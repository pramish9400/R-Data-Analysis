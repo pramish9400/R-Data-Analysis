{
 "cells": [
  {
   "cell_type": "markdown",
   "id": "ff9561ea-a984-4173-8b19-423f34518cb9",
   "metadata": {},
   "source": [
    "# DataFrames in R - Part 01"
   ]
  },
  {
   "cell_type": "markdown",
   "id": "a8194a9d-483a-4ef8-8cce-620e3ea0c4bc",
   "metadata": {},
   "source": [
    "#### Why use DataFrames?\n",
    "- Ease of usage\n",
    "- Functionalities\n",
    "- Most data comes in tabular format\n",
    "- compatible with analytical tools"
   ]
  },
  {
   "cell_type": "markdown",
   "id": "c0c71b69-9d52-4caf-9046-33dd1175f462",
   "metadata": {},
   "source": [
    "#### Creating Data.Frame"
   ]
  },
  {
   "cell_type": "code",
   "execution_count": 1,
   "id": "6c124f6a-f94a-4f01-aa09-75a6d9467dbd",
   "metadata": {},
   "outputs": [],
   "source": [
    "country <- c(\"France\", \"Germany\", \"Greece\", \"Italy\", \"Portugal\", \"Spain\")"
   ]
  },
  {
   "cell_type": "code",
   "execution_count": 3,
   "id": "a9b86259-0821-4dc7-8a19-42c93cfaf21a",
   "metadata": {},
   "outputs": [],
   "source": [
    "gdp_growth <- c(1.3, 0.3, 1.9, 0.3, NA, 2)"
   ]
  },
  {
   "cell_type": "code",
   "execution_count": 5,
   "id": "4bc18d3b-fa6c-4abf-9ca7-26f400037ab9",
   "metadata": {},
   "outputs": [],
   "source": [
    "mkt_type <- factor(c(\"High\", \"High\", \"Low\", \"Medium\", \"Low\", \"Medium\"))"
   ]
  },
  {
   "cell_type": "code",
   "execution_count": 7,
   "id": "eb1b497e-376c-4fcf-af41-b3ea6d3c2347",
   "metadata": {},
   "outputs": [
    {
     "name": "stdout",
     "output_type": "stream",
     "text": [
      "[1] \"France\"   \"Germany\"  \"Greece\"   \"Italy\"    \"Portugal\" \"Spain\"   \n"
     ]
    }
   ],
   "source": [
    "print(country)"
   ]
  },
  {
   "cell_type": "code",
   "execution_count": 9,
   "id": "c38cf471-3491-4786-a24d-332a1e40eadf",
   "metadata": {},
   "outputs": [
    {
     "name": "stdout",
     "output_type": "stream",
     "text": [
      "[1] 1.3 0.3 1.9 0.3  NA 2.0\n"
     ]
    }
   ],
   "source": [
    "print(gdp_growth)"
   ]
  },
  {
   "cell_type": "code",
   "execution_count": 11,
   "id": "7d87d162-71ac-41d0-9efb-9a83466605f2",
   "metadata": {},
   "outputs": [
    {
     "name": "stdout",
     "output_type": "stream",
     "text": [
      "[1] High   High   Low    Medium Low    Medium\n",
      "Levels: High Low Medium\n"
     ]
    }
   ],
   "source": [
    "print(mkt_type)"
   ]
  },
  {
   "cell_type": "markdown",
   "id": "5b08b3e4-31ff-45c2-be00-1760b8355d69",
   "metadata": {},
   "source": [
    "##### Let's convert these vectors into a Data.Frame now"
   ]
  },
  {
   "cell_type": "code",
   "execution_count": 13,
   "id": "e5cdf1fc-6682-41c3-868c-8eb51aecb8ac",
   "metadata": {},
   "outputs": [
    {
     "name": "stdout",
     "output_type": "stream",
     "text": [
      "   country gdp_growth mkt_type\n",
      "1   France        1.3     High\n",
      "2  Germany        0.3     High\n",
      "3   Greece        1.9      Low\n",
      "4    Italy        0.3   Medium\n",
      "5 Portugal         NA      Low\n",
      "6    Spain        2.0   Medium\n"
     ]
    }
   ],
   "source": [
    "data <- data.frame(country = country, gdp_growth = gdp_growth, mkt_type = mkt_type)\n",
    "print(data)"
   ]
  },
  {
   "cell_type": "code",
   "execution_count": 15,
   "id": "c3a55305-74f6-4682-abb5-415f0f14ee1c",
   "metadata": {},
   "outputs": [
    {
     "data": {
      "text/html": [
       "'data.frame'"
      ],
      "text/latex": [
       "'data.frame'"
      ],
      "text/markdown": [
       "'data.frame'"
      ],
      "text/plain": [
       "[1] \"data.frame\""
      ]
     },
     "metadata": {},
     "output_type": "display_data"
    }
   ],
   "source": [
    "class(data)"
   ]
  },
  {
   "cell_type": "markdown",
   "id": "b15c820a-62da-4c7c-b049-4d8b73efa0a1",
   "metadata": {},
   "source": [
    "#### View()\n",
    "- In R-studio we can use the \"View\" function to see the data.frame, but this functionality is not supported in Jupyter notebook. "
   ]
  },
  {
   "cell_type": "markdown",
   "id": "f2cf2e2a-b74c-437b-bb25-9906d7834066",
   "metadata": {},
   "source": [
    "### edit()\n",
    "- This function can be used in R-Studio for visually editing the dataframe.\n",
    "- data_edited <- edit(data)"
   ]
  },
  {
   "cell_type": "markdown",
   "id": "d4c4edac-adc1-4fd4-9a04-4fbc404bbf93",
   "metadata": {},
   "source": [
    "### Various dataframe operations"
   ]
  },
  {
   "cell_type": "markdown",
   "id": "e1676757-ec73-417c-93dc-9c896aa3e86d",
   "metadata": {},
   "source": [
    "#### Accessing the individual columns using the \"$\" notation"
   ]
  },
  {
   "cell_type": "code",
   "execution_count": 17,
   "id": "480e9959-ea0f-4197-8761-1bacb460313c",
   "metadata": {},
   "outputs": [
    {
     "data": {
      "text/html": [
       "<table>\n",
       "<thead><tr><th scope=col>country</th><th scope=col>gdp_growth</th><th scope=col>mkt_type</th></tr></thead>\n",
       "<tbody>\n",
       "\t<tr><td>France  </td><td>1.3     </td><td>High    </td></tr>\n",
       "\t<tr><td>Germany </td><td>0.3     </td><td>High    </td></tr>\n",
       "\t<tr><td>Greece  </td><td>1.9     </td><td>Low     </td></tr>\n",
       "\t<tr><td>Italy   </td><td>0.3     </td><td>Medium  </td></tr>\n",
       "\t<tr><td>Portugal</td><td> NA     </td><td>Low     </td></tr>\n",
       "\t<tr><td>Spain   </td><td>2.0     </td><td>Medium  </td></tr>\n",
       "</tbody>\n",
       "</table>\n"
      ],
      "text/latex": [
       "\\begin{tabular}{r|lll}\n",
       " country & gdp\\_growth & mkt\\_type\\\\\n",
       "\\hline\n",
       "\t France   & 1.3      & High    \\\\\n",
       "\t Germany  & 0.3      & High    \\\\\n",
       "\t Greece   & 1.9      & Low     \\\\\n",
       "\t Italy    & 0.3      & Medium  \\\\\n",
       "\t Portugal &  NA      & Low     \\\\\n",
       "\t Spain    & 2.0      & Medium  \\\\\n",
       "\\end{tabular}\n"
      ],
      "text/markdown": [
       "\n",
       "| country | gdp_growth | mkt_type |\n",
       "|---|---|---|\n",
       "| France   | 1.3      | High     |\n",
       "| Germany  | 0.3      | High     |\n",
       "| Greece   | 1.9      | Low      |\n",
       "| Italy    | 0.3      | Medium   |\n",
       "| Portugal |  NA      | Low      |\n",
       "| Spain    | 2.0      | Medium   |\n",
       "\n"
      ],
      "text/plain": [
       "  country  gdp_growth mkt_type\n",
       "1 France   1.3        High    \n",
       "2 Germany  0.3        High    \n",
       "3 Greece   1.9        Low     \n",
       "4 Italy    0.3        Medium  \n",
       "5 Portugal  NA        Low     \n",
       "6 Spain    2.0        Medium  "
      ]
     },
     "metadata": {},
     "output_type": "display_data"
    }
   ],
   "source": [
    "data"
   ]
  },
  {
   "cell_type": "code",
   "execution_count": 19,
   "id": "1f696572-e6ae-4d70-9b19-2ff369cfea58",
   "metadata": {},
   "outputs": [
    {
     "data": {
      "text/html": [
       "<ol class=list-inline>\n",
       "\t<li>France</li>\n",
       "\t<li>Germany</li>\n",
       "\t<li>Greece</li>\n",
       "\t<li>Italy</li>\n",
       "\t<li>Portugal</li>\n",
       "\t<li>Spain</li>\n",
       "</ol>\n",
       "\n",
       "<details>\n",
       "\t<summary style=display:list-item;cursor:pointer>\n",
       "\t\t<strong>Levels</strong>:\n",
       "\t</summary>\n",
       "\t<ol class=list-inline>\n",
       "\t\t<li>'France'</li>\n",
       "\t\t<li>'Germany'</li>\n",
       "\t\t<li>'Greece'</li>\n",
       "\t\t<li>'Italy'</li>\n",
       "\t\t<li>'Portugal'</li>\n",
       "\t\t<li>'Spain'</li>\n",
       "\t</ol>\n",
       "</details>"
      ],
      "text/latex": [
       "\\begin{enumerate*}\n",
       "\\item France\n",
       "\\item Germany\n",
       "\\item Greece\n",
       "\\item Italy\n",
       "\\item Portugal\n",
       "\\item Spain\n",
       "\\end{enumerate*}\n",
       "\n",
       "\\emph{Levels}: \\begin{enumerate*}\n",
       "\\item 'France'\n",
       "\\item 'Germany'\n",
       "\\item 'Greece'\n",
       "\\item 'Italy'\n",
       "\\item 'Portugal'\n",
       "\\item 'Spain'\n",
       "\\end{enumerate*}\n"
      ],
      "text/markdown": [
       "1. France\n",
       "2. Germany\n",
       "3. Greece\n",
       "4. Italy\n",
       "5. Portugal\n",
       "6. Spain\n",
       "\n",
       "\n",
       "\n",
       "**Levels**: 1. 'France'\n",
       "2. 'Germany'\n",
       "3. 'Greece'\n",
       "4. 'Italy'\n",
       "5. 'Portugal'\n",
       "6. 'Spain'\n",
       "\n",
       "\n"
      ],
      "text/plain": [
       "[1] France   Germany  Greece   Italy    Portugal Spain   \n",
       "Levels: France Germany Greece Italy Portugal Spain"
      ]
     },
     "metadata": {},
     "output_type": "display_data"
    }
   ],
   "source": [
    "data$country"
   ]
  },
  {
   "cell_type": "code",
   "execution_count": 21,
   "id": "d96155d7-a4d6-44aa-9d94-aad2a255f6cf",
   "metadata": {},
   "outputs": [
    {
     "name": "stdout",
     "output_type": "stream",
     "text": [
      "[1] France   Germany  Greece   Italy    Portugal Spain   \n",
      "Levels: France Germany Greece Italy Portugal Spain\n"
     ]
    }
   ],
   "source": [
    "print(data$country)"
   ]
  },
  {
   "cell_type": "code",
   "execution_count": 23,
   "id": "7c5ff743-fea5-4034-b643-73adf0371848",
   "metadata": {},
   "outputs": [
    {
     "name": "stdout",
     "output_type": "stream",
     "text": [
      "[1] 1.3 0.3 1.9 0.3  NA 2.0\n"
     ]
    }
   ],
   "source": [
    "print(data$gdp_growth)"
   ]
  },
  {
   "cell_type": "markdown",
   "id": "05424556-c19d-4b29-ab84-0cb89516ec41",
   "metadata": {},
   "source": [
    "##### If the column name contains spaces, then it should be enclosed within back ticks - \"``\""
   ]
  },
  {
   "cell_type": "code",
   "execution_count": 26,
   "id": "03530f3f-a577-482b-bd08-7230bdc83763",
   "metadata": {},
   "outputs": [
    {
     "data": {
      "text/html": [
       "<ol class=list-inline>\n",
       "\t<li>High</li>\n",
       "\t<li>High</li>\n",
       "\t<li>Low</li>\n",
       "\t<li>Medium</li>\n",
       "\t<li>Low</li>\n",
       "\t<li>Medium</li>\n",
       "</ol>\n",
       "\n",
       "<details>\n",
       "\t<summary style=display:list-item;cursor:pointer>\n",
       "\t\t<strong>Levels</strong>:\n",
       "\t</summary>\n",
       "\t<ol class=list-inline>\n",
       "\t\t<li>'High'</li>\n",
       "\t\t<li>'Low'</li>\n",
       "\t\t<li>'Medium'</li>\n",
       "\t</ol>\n",
       "</details>"
      ],
      "text/latex": [
       "\\begin{enumerate*}\n",
       "\\item High\n",
       "\\item High\n",
       "\\item Low\n",
       "\\item Medium\n",
       "\\item Low\n",
       "\\item Medium\n",
       "\\end{enumerate*}\n",
       "\n",
       "\\emph{Levels}: \\begin{enumerate*}\n",
       "\\item 'High'\n",
       "\\item 'Low'\n",
       "\\item 'Medium'\n",
       "\\end{enumerate*}\n"
      ],
      "text/markdown": [
       "1. High\n",
       "2. High\n",
       "3. Low\n",
       "4. Medium\n",
       "5. Low\n",
       "6. Medium\n",
       "\n",
       "\n",
       "\n",
       "**Levels**: 1. 'High'\n",
       "2. 'Low'\n",
       "3. 'Medium'\n",
       "\n",
       "\n"
      ],
      "text/plain": [
       "[1] High   High   Low    Medium Low    Medium\n",
       "Levels: High Low Medium"
      ]
     },
     "metadata": {},
     "output_type": "display_data"
    }
   ],
   "source": [
    "data$`mkt_type`"
   ]
  },
  {
   "cell_type": "code",
   "execution_count": 28,
   "id": "4741b158-e3b7-481f-8179-65f68ab88384",
   "metadata": {},
   "outputs": [
    {
     "name": "stdout",
     "output_type": "stream",
     "text": [
      "[1] High   High   Low    Medium Low    Medium\n",
      "Levels: High Low Medium\n"
     ]
    }
   ],
   "source": [
    "print(data$`mkt_type`)"
   ]
  },
  {
   "cell_type": "markdown",
   "id": "ba437373-6756-4b1d-9ab7-ae3d3ad49f3d",
   "metadata": {},
   "source": [
    "##### It is to be noted that when we type a space in the column names, it is replaced by a \".\" in the dataframe by default."
   ]
  },
  {
   "cell_type": "markdown",
   "id": "e6a0ca2d-ee1a-4e2a-843f-0edef19093c0",
   "metadata": {},
   "source": [
    "### Creating new columns"
   ]
  },
  {
   "cell_type": "code",
   "execution_count": 32,
   "id": "5b865f0b-1a49-41cf-bf8f-e27cf6899957",
   "metadata": {},
   "outputs": [],
   "source": [
    "data$abbreviated_country <- abbreviate(data$country, minlength = 3)"
   ]
  },
  {
   "cell_type": "code",
   "execution_count": 34,
   "id": "cb6a2e87-0c4e-4c69-b67e-1b47bf0d3ebd",
   "metadata": {},
   "outputs": [
    {
     "data": {
      "text/html": [
       "<ol class=list-inline>\n",
       "\t<li>'Frn'</li>\n",
       "\t<li>'Grm'</li>\n",
       "\t<li>'Grc'</li>\n",
       "\t<li>'Itl'</li>\n",
       "\t<li>'Prt'</li>\n",
       "\t<li>'Spn'</li>\n",
       "</ol>\n"
      ],
      "text/latex": [
       "\\begin{enumerate*}\n",
       "\\item 'Frn'\n",
       "\\item 'Grm'\n",
       "\\item 'Grc'\n",
       "\\item 'Itl'\n",
       "\\item 'Prt'\n",
       "\\item 'Spn'\n",
       "\\end{enumerate*}\n"
      ],
      "text/markdown": [
       "1. 'Frn'\n",
       "2. 'Grm'\n",
       "3. 'Grc'\n",
       "4. 'Itl'\n",
       "5. 'Prt'\n",
       "6. 'Spn'\n",
       "\n",
       "\n"
      ],
      "text/plain": [
       "[1] \"Frn\" \"Grm\" \"Grc\" \"Itl\" \"Prt\" \"Spn\""
      ]
     },
     "metadata": {},
     "output_type": "display_data"
    }
   ],
   "source": [
    "data$abbreviated_country"
   ]
  },
  {
   "cell_type": "code",
   "execution_count": 36,
   "id": "ebddf5ae-6fe0-4e28-b025-aeab47d9d0a2",
   "metadata": {},
   "outputs": [
    {
     "data": {
      "text/html": [
       "<table>\n",
       "<thead><tr><th scope=col>country</th><th scope=col>gdp_growth</th><th scope=col>mkt_type</th><th scope=col>abbreviated_country</th></tr></thead>\n",
       "<tbody>\n",
       "\t<tr><td>France  </td><td>1.3     </td><td>High    </td><td>Frn     </td></tr>\n",
       "\t<tr><td>Germany </td><td>0.3     </td><td>High    </td><td>Grm     </td></tr>\n",
       "\t<tr><td>Greece  </td><td>1.9     </td><td>Low     </td><td>Grc     </td></tr>\n",
       "\t<tr><td>Italy   </td><td>0.3     </td><td>Medium  </td><td>Itl     </td></tr>\n",
       "\t<tr><td>Portugal</td><td> NA     </td><td>Low     </td><td>Prt     </td></tr>\n",
       "\t<tr><td>Spain   </td><td>2.0     </td><td>Medium  </td><td>Spn     </td></tr>\n",
       "</tbody>\n",
       "</table>\n"
      ],
      "text/latex": [
       "\\begin{tabular}{r|llll}\n",
       " country & gdp\\_growth & mkt\\_type & abbreviated\\_country\\\\\n",
       "\\hline\n",
       "\t France   & 1.3      & High     & Frn     \\\\\n",
       "\t Germany  & 0.3      & High     & Grm     \\\\\n",
       "\t Greece   & 1.9      & Low      & Grc     \\\\\n",
       "\t Italy    & 0.3      & Medium   & Itl     \\\\\n",
       "\t Portugal &  NA      & Low      & Prt     \\\\\n",
       "\t Spain    & 2.0      & Medium   & Spn     \\\\\n",
       "\\end{tabular}\n"
      ],
      "text/markdown": [
       "\n",
       "| country | gdp_growth | mkt_type | abbreviated_country |\n",
       "|---|---|---|---|\n",
       "| France   | 1.3      | High     | Frn      |\n",
       "| Germany  | 0.3      | High     | Grm      |\n",
       "| Greece   | 1.9      | Low      | Grc      |\n",
       "| Italy    | 0.3      | Medium   | Itl      |\n",
       "| Portugal |  NA      | Low      | Prt      |\n",
       "| Spain    | 2.0      | Medium   | Spn      |\n",
       "\n"
      ],
      "text/plain": [
       "  country  gdp_growth mkt_type abbreviated_country\n",
       "1 France   1.3        High     Frn                \n",
       "2 Germany  0.3        High     Grm                \n",
       "3 Greece   1.9        Low      Grc                \n",
       "4 Italy    0.3        Medium   Itl                \n",
       "5 Portugal  NA        Low      Prt                \n",
       "6 Spain    2.0        Medium   Spn                "
      ]
     },
     "metadata": {},
     "output_type": "display_data"
    }
   ],
   "source": [
    "data"
   ]
  },
  {
   "cell_type": "markdown",
   "id": "b9cc7828-f57a-47ba-8255-310c1cb98547",
   "metadata": {},
   "source": [
    "#### Structure of a dataframe"
   ]
  },
  {
   "cell_type": "code",
   "execution_count": 39,
   "id": "83dcaca3-36dc-4f84-af5a-d44da20ed1f0",
   "metadata": {},
   "outputs": [
    {
     "name": "stdout",
     "output_type": "stream",
     "text": [
      "'data.frame':\t6 obs. of  4 variables:\n",
      " $ country            : Factor w/ 6 levels \"France\",\"Germany\",..: 1 2 3 4 5 6\n",
      " $ gdp_growth         : num  1.3 0.3 1.9 0.3 NA 2\n",
      " $ mkt_type           : Factor w/ 3 levels \"High\",\"Low\",\"Medium\": 1 1 2 3 2 3\n",
      " $ abbreviated_country: chr  \"Frn\" \"Grm\" \"Grc\" \"Itl\" ...\n"
     ]
    }
   ],
   "source": [
    "str(data)"
   ]
  },
  {
   "cell_type": "markdown",
   "id": "eb44b88a-2e74-4717-9ec0-57ac50a6de93",
   "metadata": {},
   "source": [
    "#### Class 22"
   ]
  },
  {
   "cell_type": "markdown",
   "id": "10713263-4cda-4396-9363-1dfca173483e",
   "metadata": {},
   "source": [
    "#### Alternate method using \"sapply\""
   ]
  },
  {
   "cell_type": "code",
   "execution_count": 43,
   "id": "c70a7d11-fb1d-42fe-ad3a-4e5dc8b3eb34",
   "metadata": {},
   "outputs": [],
   "source": [
    "class_data <- sapply(data, class)"
   ]
  },
  {
   "cell_type": "code",
   "execution_count": 45,
   "id": "38208bed-c9ce-42f9-9b9a-762b7a3e1639",
   "metadata": {},
   "outputs": [
    {
     "name": "stdout",
     "output_type": "stream",
     "text": [
      "            country          gdp_growth            mkt_type abbreviated_country \n",
      "           \"factor\"           \"numeric\"            \"factor\"         \"character\" \n"
     ]
    }
   ],
   "source": [
    "print(class_data)"
   ]
  },
  {
   "cell_type": "markdown",
   "id": "31817e4a-57ea-4bfc-883d-3f9412fe0011",
   "metadata": {},
   "source": [
    "#### Please not that by default dataframe changes character vectors to Factors. We may turn it off using the following code:"
   ]
  },
  {
   "cell_type": "code",
   "execution_count": 48,
   "id": "904a4f30-e0c0-46d1-ba8e-f84d1303f174",
   "metadata": {},
   "outputs": [
    {
     "name": "stdout",
     "output_type": "stream",
     "text": [
      "   country gdp_growth mkt_type\n",
      "1   France        1.3     High\n",
      "2  Germany        0.3     High\n",
      "3   Greece        1.9      Low\n",
      "4    Italy        0.3   Medium\n",
      "5 Portugal         NA      Low\n",
      "6    Spain        2.0   Medium\n"
     ]
    }
   ],
   "source": [
    "data <- data.frame(country = country, gdp_growth = gdp_growth, mkt_type = mkt_type, stringsAsFactors = F)\n",
    "print(data)"
   ]
  },
  {
   "cell_type": "code",
   "execution_count": 50,
   "id": "ca2067b3-8969-4cbb-b212-b1c42ccea634",
   "metadata": {},
   "outputs": [
    {
     "name": "stdout",
     "output_type": "stream",
     "text": [
      "'data.frame':\t6 obs. of  3 variables:\n",
      " $ country   : chr  \"France\" \"Germany\" \"Greece\" \"Italy\" ...\n",
      " $ gdp_growth: num  1.3 0.3 1.9 0.3 NA 2\n",
      " $ mkt_type  : Factor w/ 3 levels \"High\",\"Low\",\"Medium\": 1 1 2 3 2 3\n",
      "NULL\n"
     ]
    }
   ],
   "source": [
    "print(str(data))"
   ]
  },
  {
   "cell_type": "markdown",
   "id": "ccfb3c89-d52a-4a16-ac27-ed1bed1b498c",
   "metadata": {},
   "source": [
    "#### Appending rows and columns"
   ]
  },
  {
   "cell_type": "markdown",
   "id": "9490ad2f-4707-4410-8c86-5529c732adf8",
   "metadata": {},
   "source": [
    "##### cbind and rbind"
   ]
  },
  {
   "cell_type": "code",
   "execution_count": 54,
   "id": "ca6201da-ec7f-4f2e-ac86-832a03478e91",
   "metadata": {},
   "outputs": [
    {
     "data": {
      "text/html": [
       "<table>\n",
       "<thead><tr><th scope=col>country</th><th scope=col>gdp_growth</th><th scope=col>mkt_type</th><th scope=col>country</th><th scope=col>gdp_growth</th><th scope=col>mkt_type</th></tr></thead>\n",
       "<tbody>\n",
       "\t<tr><td>France  </td><td>1.3     </td><td>High    </td><td>France  </td><td>1.3     </td><td>High    </td></tr>\n",
       "\t<tr><td>Germany </td><td>0.3     </td><td>High    </td><td>Germany </td><td>0.3     </td><td>High    </td></tr>\n",
       "\t<tr><td>Greece  </td><td>1.9     </td><td>Low     </td><td>Greece  </td><td>1.9     </td><td>Low     </td></tr>\n",
       "\t<tr><td>Italy   </td><td>0.3     </td><td>Medium  </td><td>Italy   </td><td>0.3     </td><td>Medium  </td></tr>\n",
       "\t<tr><td>Portugal</td><td> NA     </td><td>Low     </td><td>Portugal</td><td> NA     </td><td>Low     </td></tr>\n",
       "\t<tr><td>Spain   </td><td>2.0     </td><td>Medium  </td><td>Spain   </td><td>2.0     </td><td>Medium  </td></tr>\n",
       "</tbody>\n",
       "</table>\n"
      ],
      "text/latex": [
       "\\begin{tabular}{r|llllll}\n",
       " country & gdp\\_growth & mkt\\_type & country & gdp\\_growth & mkt\\_type\\\\\n",
       "\\hline\n",
       "\t France   & 1.3      & High     & France   & 1.3      & High    \\\\\n",
       "\t Germany  & 0.3      & High     & Germany  & 0.3      & High    \\\\\n",
       "\t Greece   & 1.9      & Low      & Greece   & 1.9      & Low     \\\\\n",
       "\t Italy    & 0.3      & Medium   & Italy    & 0.3      & Medium  \\\\\n",
       "\t Portugal &  NA      & Low      & Portugal &  NA      & Low     \\\\\n",
       "\t Spain    & 2.0      & Medium   & Spain    & 2.0      & Medium  \\\\\n",
       "\\end{tabular}\n"
      ],
      "text/markdown": [
       "\n",
       "| country | gdp_growth | mkt_type | country | gdp_growth | mkt_type |\n",
       "|---|---|---|---|---|---|\n",
       "| France   | 1.3      | High     | France   | 1.3      | High     |\n",
       "| Germany  | 0.3      | High     | Germany  | 0.3      | High     |\n",
       "| Greece   | 1.9      | Low      | Greece   | 1.9      | Low      |\n",
       "| Italy    | 0.3      | Medium   | Italy    | 0.3      | Medium   |\n",
       "| Portugal |  NA      | Low      | Portugal |  NA      | Low      |\n",
       "| Spain    | 2.0      | Medium   | Spain    | 2.0      | Medium   |\n",
       "\n"
      ],
      "text/plain": [
       "  country  gdp_growth mkt_type country  gdp_growth mkt_type\n",
       "1 France   1.3        High     France   1.3        High    \n",
       "2 Germany  0.3        High     Germany  0.3        High    \n",
       "3 Greece   1.9        Low      Greece   1.9        Low     \n",
       "4 Italy    0.3        Medium   Italy    0.3        Medium  \n",
       "5 Portugal  NA        Low      Portugal  NA        Low     \n",
       "6 Spain    2.0        Medium   Spain    2.0        Medium  "
      ]
     },
     "metadata": {},
     "output_type": "display_data"
    }
   ],
   "source": [
    "data_cbind <- cbind(data, data)\n",
    "data_cbind"
   ]
  },
  {
   "cell_type": "code",
   "execution_count": 56,
   "id": "c9917215-dc62-45b1-9165-b9f0913877b7",
   "metadata": {},
   "outputs": [
    {
     "data": {
      "text/html": [
       "<table>\n",
       "<thead><tr><th scope=col>country</th><th scope=col>gdp_growth</th><th scope=col>mkt_type</th></tr></thead>\n",
       "<tbody>\n",
       "\t<tr><td>France  </td><td>1.3     </td><td>High    </td></tr>\n",
       "\t<tr><td>Germany </td><td>0.3     </td><td>High    </td></tr>\n",
       "\t<tr><td>Greece  </td><td>1.9     </td><td>Low     </td></tr>\n",
       "\t<tr><td>Italy   </td><td>0.3     </td><td>Medium  </td></tr>\n",
       "\t<tr><td>Portugal</td><td> NA     </td><td>Low     </td></tr>\n",
       "\t<tr><td>Spain   </td><td>2.0     </td><td>Medium  </td></tr>\n",
       "\t<tr><td>France  </td><td>1.3     </td><td>High    </td></tr>\n",
       "\t<tr><td>Germany </td><td>0.3     </td><td>High    </td></tr>\n",
       "\t<tr><td>Greece  </td><td>1.9     </td><td>Low     </td></tr>\n",
       "\t<tr><td>Italy   </td><td>0.3     </td><td>Medium  </td></tr>\n",
       "\t<tr><td>Portugal</td><td> NA     </td><td>Low     </td></tr>\n",
       "\t<tr><td>Spain   </td><td>2.0     </td><td>Medium  </td></tr>\n",
       "</tbody>\n",
       "</table>\n"
      ],
      "text/latex": [
       "\\begin{tabular}{r|lll}\n",
       " country & gdp\\_growth & mkt\\_type\\\\\n",
       "\\hline\n",
       "\t France   & 1.3      & High    \\\\\n",
       "\t Germany  & 0.3      & High    \\\\\n",
       "\t Greece   & 1.9      & Low     \\\\\n",
       "\t Italy    & 0.3      & Medium  \\\\\n",
       "\t Portugal &  NA      & Low     \\\\\n",
       "\t Spain    & 2.0      & Medium  \\\\\n",
       "\t France   & 1.3      & High    \\\\\n",
       "\t Germany  & 0.3      & High    \\\\\n",
       "\t Greece   & 1.9      & Low     \\\\\n",
       "\t Italy    & 0.3      & Medium  \\\\\n",
       "\t Portugal &  NA      & Low     \\\\\n",
       "\t Spain    & 2.0      & Medium  \\\\\n",
       "\\end{tabular}\n"
      ],
      "text/markdown": [
       "\n",
       "| country | gdp_growth | mkt_type |\n",
       "|---|---|---|\n",
       "| France   | 1.3      | High     |\n",
       "| Germany  | 0.3      | High     |\n",
       "| Greece   | 1.9      | Low      |\n",
       "| Italy    | 0.3      | Medium   |\n",
       "| Portugal |  NA      | Low      |\n",
       "| Spain    | 2.0      | Medium   |\n",
       "| France   | 1.3      | High     |\n",
       "| Germany  | 0.3      | High     |\n",
       "| Greece   | 1.9      | Low      |\n",
       "| Italy    | 0.3      | Medium   |\n",
       "| Portugal |  NA      | Low      |\n",
       "| Spain    | 2.0      | Medium   |\n",
       "\n"
      ],
      "text/plain": [
       "   country  gdp_growth mkt_type\n",
       "1  France   1.3        High    \n",
       "2  Germany  0.3        High    \n",
       "3  Greece   1.9        Low     \n",
       "4  Italy    0.3        Medium  \n",
       "5  Portugal  NA        Low     \n",
       "6  Spain    2.0        Medium  \n",
       "7  France   1.3        High    \n",
       "8  Germany  0.3        High    \n",
       "9  Greece   1.9        Low     \n",
       "10 Italy    0.3        Medium  \n",
       "11 Portugal  NA        Low     \n",
       "12 Spain    2.0        Medium  "
      ]
     },
     "metadata": {},
     "output_type": "display_data"
    }
   ],
   "source": [
    "data_rbind <- rbind(data, data)\n",
    "data_rbind"
   ]
  },
  {
   "cell_type": "markdown",
   "id": "8f259687-8e03-4a0a-a70c-520ec296e958",
   "metadata": {},
   "source": [
    "##### rbind can take multiple dataframes as its arguments"
   ]
  },
  {
   "cell_type": "markdown",
   "id": "e49cddb0-d9b5-4a68-949f-c6b3ef0accfd",
   "metadata": {},
   "source": [
    "### Inspecting dataframe"
   ]
  },
  {
   "cell_type": "code",
   "execution_count": 60,
   "id": "95fc11f6-8b84-41cd-902c-66aaf8bb5c12",
   "metadata": {},
   "outputs": [
    {
     "data": {
      "text/html": [
       "<table>\n",
       "<thead><tr><th scope=col>country</th><th scope=col>gdp_growth</th><th scope=col>mkt_type</th></tr></thead>\n",
       "<tbody>\n",
       "\t<tr><td>France  </td><td>1.3     </td><td>High    </td></tr>\n",
       "\t<tr><td>Germany </td><td>0.3     </td><td>High    </td></tr>\n",
       "\t<tr><td>Greece  </td><td>1.9     </td><td>Low     </td></tr>\n",
       "\t<tr><td>Italy   </td><td>0.3     </td><td>Medium  </td></tr>\n",
       "\t<tr><td>Portugal</td><td> NA     </td><td>Low     </td></tr>\n",
       "\t<tr><td>Spain   </td><td>2.0     </td><td>Medium  </td></tr>\n",
       "\t<tr><td>France  </td><td>1.3     </td><td>High    </td></tr>\n",
       "\t<tr><td>Germany </td><td>0.3     </td><td>High    </td></tr>\n",
       "\t<tr><td>Greece  </td><td>1.9     </td><td>Low     </td></tr>\n",
       "\t<tr><td>Italy   </td><td>0.3     </td><td>Medium  </td></tr>\n",
       "\t<tr><td>Portugal</td><td> NA     </td><td>Low     </td></tr>\n",
       "\t<tr><td>Spain   </td><td>2.0     </td><td>Medium  </td></tr>\n",
       "\t<tr><td>France  </td><td>1.3     </td><td>High    </td></tr>\n",
       "\t<tr><td>Germany </td><td>0.3     </td><td>High    </td></tr>\n",
       "\t<tr><td>Greece  </td><td>1.9     </td><td>Low     </td></tr>\n",
       "\t<tr><td>Italy   </td><td>0.3     </td><td>Medium  </td></tr>\n",
       "\t<tr><td>Portugal</td><td> NA     </td><td>Low     </td></tr>\n",
       "\t<tr><td>Spain   </td><td>2.0     </td><td>Medium  </td></tr>\n",
       "\t<tr><td>France  </td><td>1.3     </td><td>High    </td></tr>\n",
       "\t<tr><td>Germany </td><td>0.3     </td><td>High    </td></tr>\n",
       "\t<tr><td>Greece  </td><td>1.9     </td><td>Low     </td></tr>\n",
       "\t<tr><td>Italy   </td><td>0.3     </td><td>Medium  </td></tr>\n",
       "\t<tr><td>Portugal</td><td> NA     </td><td>Low     </td></tr>\n",
       "\t<tr><td>Spain   </td><td>2.0     </td><td>Medium  </td></tr>\n",
       "</tbody>\n",
       "</table>\n"
      ],
      "text/latex": [
       "\\begin{tabular}{r|lll}\n",
       " country & gdp\\_growth & mkt\\_type\\\\\n",
       "\\hline\n",
       "\t France   & 1.3      & High    \\\\\n",
       "\t Germany  & 0.3      & High    \\\\\n",
       "\t Greece   & 1.9      & Low     \\\\\n",
       "\t Italy    & 0.3      & Medium  \\\\\n",
       "\t Portugal &  NA      & Low     \\\\\n",
       "\t Spain    & 2.0      & Medium  \\\\\n",
       "\t France   & 1.3      & High    \\\\\n",
       "\t Germany  & 0.3      & High    \\\\\n",
       "\t Greece   & 1.9      & Low     \\\\\n",
       "\t Italy    & 0.3      & Medium  \\\\\n",
       "\t Portugal &  NA      & Low     \\\\\n",
       "\t Spain    & 2.0      & Medium  \\\\\n",
       "\t France   & 1.3      & High    \\\\\n",
       "\t Germany  & 0.3      & High    \\\\\n",
       "\t Greece   & 1.9      & Low     \\\\\n",
       "\t Italy    & 0.3      & Medium  \\\\\n",
       "\t Portugal &  NA      & Low     \\\\\n",
       "\t Spain    & 2.0      & Medium  \\\\\n",
       "\t France   & 1.3      & High    \\\\\n",
       "\t Germany  & 0.3      & High    \\\\\n",
       "\t Greece   & 1.9      & Low     \\\\\n",
       "\t Italy    & 0.3      & Medium  \\\\\n",
       "\t Portugal &  NA      & Low     \\\\\n",
       "\t Spain    & 2.0      & Medium  \\\\\n",
       "\\end{tabular}\n"
      ],
      "text/markdown": [
       "\n",
       "| country | gdp_growth | mkt_type |\n",
       "|---|---|---|\n",
       "| France   | 1.3      | High     |\n",
       "| Germany  | 0.3      | High     |\n",
       "| Greece   | 1.9      | Low      |\n",
       "| Italy    | 0.3      | Medium   |\n",
       "| Portugal |  NA      | Low      |\n",
       "| Spain    | 2.0      | Medium   |\n",
       "| France   | 1.3      | High     |\n",
       "| Germany  | 0.3      | High     |\n",
       "| Greece   | 1.9      | Low      |\n",
       "| Italy    | 0.3      | Medium   |\n",
       "| Portugal |  NA      | Low      |\n",
       "| Spain    | 2.0      | Medium   |\n",
       "| France   | 1.3      | High     |\n",
       "| Germany  | 0.3      | High     |\n",
       "| Greece   | 1.9      | Low      |\n",
       "| Italy    | 0.3      | Medium   |\n",
       "| Portugal |  NA      | Low      |\n",
       "| Spain    | 2.0      | Medium   |\n",
       "| France   | 1.3      | High     |\n",
       "| Germany  | 0.3      | High     |\n",
       "| Greece   | 1.9      | Low      |\n",
       "| Italy    | 0.3      | Medium   |\n",
       "| Portugal |  NA      | Low      |\n",
       "| Spain    | 2.0      | Medium   |\n",
       "\n"
      ],
      "text/plain": [
       "   country  gdp_growth mkt_type\n",
       "1  France   1.3        High    \n",
       "2  Germany  0.3        High    \n",
       "3  Greece   1.9        Low     \n",
       "4  Italy    0.3        Medium  \n",
       "5  Portugal  NA        Low     \n",
       "6  Spain    2.0        Medium  \n",
       "7  France   1.3        High    \n",
       "8  Germany  0.3        High    \n",
       "9  Greece   1.9        Low     \n",
       "10 Italy    0.3        Medium  \n",
       "11 Portugal  NA        Low     \n",
       "12 Spain    2.0        Medium  \n",
       "13 France   1.3        High    \n",
       "14 Germany  0.3        High    \n",
       "15 Greece   1.9        Low     \n",
       "16 Italy    0.3        Medium  \n",
       "17 Portugal  NA        Low     \n",
       "18 Spain    2.0        Medium  \n",
       "19 France   1.3        High    \n",
       "20 Germany  0.3        High    \n",
       "21 Greece   1.9        Low     \n",
       "22 Italy    0.3        Medium  \n",
       "23 Portugal  NA        Low     \n",
       "24 Spain    2.0        Medium  "
      ]
     },
     "metadata": {},
     "output_type": "display_data"
    }
   ],
   "source": [
    "data_multiple_repetitions <- rbind(data, data, data, data)\n",
    "data_multiple_repetitions"
   ]
  },
  {
   "cell_type": "markdown",
   "id": "c2ebc523-019c-483d-98ac-0811dddf8f4a",
   "metadata": {},
   "source": [
    "#### See top 6 rows"
   ]
  },
  {
   "cell_type": "code",
   "execution_count": 63,
   "id": "aa946b79-bf25-480c-b47c-71356d0935a5",
   "metadata": {},
   "outputs": [
    {
     "data": {
      "text/html": [
       "<table>\n",
       "<thead><tr><th scope=col>country</th><th scope=col>gdp_growth</th><th scope=col>mkt_type</th></tr></thead>\n",
       "<tbody>\n",
       "\t<tr><td>France  </td><td>1.3     </td><td>High    </td></tr>\n",
       "\t<tr><td>Germany </td><td>0.3     </td><td>High    </td></tr>\n",
       "\t<tr><td>Greece  </td><td>1.9     </td><td>Low     </td></tr>\n",
       "\t<tr><td>Italy   </td><td>0.3     </td><td>Medium  </td></tr>\n",
       "\t<tr><td>Portugal</td><td> NA     </td><td>Low     </td></tr>\n",
       "\t<tr><td>Spain   </td><td>2.0     </td><td>Medium  </td></tr>\n",
       "</tbody>\n",
       "</table>\n"
      ],
      "text/latex": [
       "\\begin{tabular}{r|lll}\n",
       " country & gdp\\_growth & mkt\\_type\\\\\n",
       "\\hline\n",
       "\t France   & 1.3      & High    \\\\\n",
       "\t Germany  & 0.3      & High    \\\\\n",
       "\t Greece   & 1.9      & Low     \\\\\n",
       "\t Italy    & 0.3      & Medium  \\\\\n",
       "\t Portugal &  NA      & Low     \\\\\n",
       "\t Spain    & 2.0      & Medium  \\\\\n",
       "\\end{tabular}\n"
      ],
      "text/markdown": [
       "\n",
       "| country | gdp_growth | mkt_type |\n",
       "|---|---|---|\n",
       "| France   | 1.3      | High     |\n",
       "| Germany  | 0.3      | High     |\n",
       "| Greece   | 1.9      | Low      |\n",
       "| Italy    | 0.3      | Medium   |\n",
       "| Portugal |  NA      | Low      |\n",
       "| Spain    | 2.0      | Medium   |\n",
       "\n"
      ],
      "text/plain": [
       "  country  gdp_growth mkt_type\n",
       "1 France   1.3        High    \n",
       "2 Germany  0.3        High    \n",
       "3 Greece   1.9        Low     \n",
       "4 Italy    0.3        Medium  \n",
       "5 Portugal  NA        Low     \n",
       "6 Spain    2.0        Medium  "
      ]
     },
     "metadata": {},
     "output_type": "display_data"
    }
   ],
   "source": [
    "head(data_multiple_repetitions)"
   ]
  },
  {
   "cell_type": "markdown",
   "id": "26509dd7-6bf0-47be-9188-ff9d5f4a71f2",
   "metadata": {},
   "source": [
    "#### See bottom 6 rows"
   ]
  },
  {
   "cell_type": "code",
   "execution_count": 66,
   "id": "3893fe46-665a-4ac9-a331-fee1d8608528",
   "metadata": {},
   "outputs": [
    {
     "data": {
      "text/html": [
       "<table>\n",
       "<thead><tr><th></th><th scope=col>country</th><th scope=col>gdp_growth</th><th scope=col>mkt_type</th></tr></thead>\n",
       "<tbody>\n",
       "\t<tr><th scope=row>19</th><td>France  </td><td>1.3     </td><td>High    </td></tr>\n",
       "\t<tr><th scope=row>20</th><td>Germany </td><td>0.3     </td><td>High    </td></tr>\n",
       "\t<tr><th scope=row>21</th><td>Greece  </td><td>1.9     </td><td>Low     </td></tr>\n",
       "\t<tr><th scope=row>22</th><td>Italy   </td><td>0.3     </td><td>Medium  </td></tr>\n",
       "\t<tr><th scope=row>23</th><td>Portugal</td><td> NA     </td><td>Low     </td></tr>\n",
       "\t<tr><th scope=row>24</th><td>Spain   </td><td>2.0     </td><td>Medium  </td></tr>\n",
       "</tbody>\n",
       "</table>\n"
      ],
      "text/latex": [
       "\\begin{tabular}{r|lll}\n",
       "  & country & gdp\\_growth & mkt\\_type\\\\\n",
       "\\hline\n",
       "\t19 & France   & 1.3      & High    \\\\\n",
       "\t20 & Germany  & 0.3      & High    \\\\\n",
       "\t21 & Greece   & 1.9      & Low     \\\\\n",
       "\t22 & Italy    & 0.3      & Medium  \\\\\n",
       "\t23 & Portugal &  NA      & Low     \\\\\n",
       "\t24 & Spain    & 2.0      & Medium  \\\\\n",
       "\\end{tabular}\n"
      ],
      "text/markdown": [
       "\n",
       "| <!--/--> | country | gdp_growth | mkt_type |\n",
       "|---|---|---|---|\n",
       "| 19 | France   | 1.3      | High     |\n",
       "| 20 | Germany  | 0.3      | High     |\n",
       "| 21 | Greece   | 1.9      | Low      |\n",
       "| 22 | Italy    | 0.3      | Medium   |\n",
       "| 23 | Portugal |  NA      | Low      |\n",
       "| 24 | Spain    | 2.0      | Medium   |\n",
       "\n"
      ],
      "text/plain": [
       "   country  gdp_growth mkt_type\n",
       "19 France   1.3        High    \n",
       "20 Germany  0.3        High    \n",
       "21 Greece   1.9        Low     \n",
       "22 Italy    0.3        Medium  \n",
       "23 Portugal  NA        Low     \n",
       "24 Spain    2.0        Medium  "
      ]
     },
     "metadata": {},
     "output_type": "display_data"
    }
   ],
   "source": [
    "tail(data_multiple_repetitions)"
   ]
  },
  {
   "cell_type": "code",
   "execution_count": 68,
   "id": "46504459-b114-4ca4-979c-10e8377e2f0b",
   "metadata": {},
   "outputs": [
    {
     "data": {
      "text/html": [
       "<table>\n",
       "<thead><tr><th scope=col>country</th><th scope=col>gdp_growth</th><th scope=col>mkt_type</th></tr></thead>\n",
       "<tbody>\n",
       "\t<tr><td>France  </td><td>1.3     </td><td>High    </td></tr>\n",
       "\t<tr><td>Germany </td><td>0.3     </td><td>High    </td></tr>\n",
       "\t<tr><td>Greece  </td><td>1.9     </td><td>Low     </td></tr>\n",
       "\t<tr><td>Italy   </td><td>0.3     </td><td>Medium  </td></tr>\n",
       "\t<tr><td>Portugal</td><td> NA     </td><td>Low     </td></tr>\n",
       "\t<tr><td>Spain   </td><td>2.0     </td><td>Medium  </td></tr>\n",
       "\t<tr><td>France  </td><td>1.3     </td><td>High    </td></tr>\n",
       "\t<tr><td>Germany </td><td>0.3     </td><td>High    </td></tr>\n",
       "\t<tr><td>Greece  </td><td>1.9     </td><td>Low     </td></tr>\n",
       "\t<tr><td>Italy   </td><td>0.3     </td><td>Medium  </td></tr>\n",
       "</tbody>\n",
       "</table>\n"
      ],
      "text/latex": [
       "\\begin{tabular}{r|lll}\n",
       " country & gdp\\_growth & mkt\\_type\\\\\n",
       "\\hline\n",
       "\t France   & 1.3      & High    \\\\\n",
       "\t Germany  & 0.3      & High    \\\\\n",
       "\t Greece   & 1.9      & Low     \\\\\n",
       "\t Italy    & 0.3      & Medium  \\\\\n",
       "\t Portugal &  NA      & Low     \\\\\n",
       "\t Spain    & 2.0      & Medium  \\\\\n",
       "\t France   & 1.3      & High    \\\\\n",
       "\t Germany  & 0.3      & High    \\\\\n",
       "\t Greece   & 1.9      & Low     \\\\\n",
       "\t Italy    & 0.3      & Medium  \\\\\n",
       "\\end{tabular}\n"
      ],
      "text/markdown": [
       "\n",
       "| country | gdp_growth | mkt_type |\n",
       "|---|---|---|\n",
       "| France   | 1.3      | High     |\n",
       "| Germany  | 0.3      | High     |\n",
       "| Greece   | 1.9      | Low      |\n",
       "| Italy    | 0.3      | Medium   |\n",
       "| Portugal |  NA      | Low      |\n",
       "| Spain    | 2.0      | Medium   |\n",
       "| France   | 1.3      | High     |\n",
       "| Germany  | 0.3      | High     |\n",
       "| Greece   | 1.9      | Low      |\n",
       "| Italy    | 0.3      | Medium   |\n",
       "\n"
      ],
      "text/plain": [
       "   country  gdp_growth mkt_type\n",
       "1  France   1.3        High    \n",
       "2  Germany  0.3        High    \n",
       "3  Greece   1.9        Low     \n",
       "4  Italy    0.3        Medium  \n",
       "5  Portugal  NA        Low     \n",
       "6  Spain    2.0        Medium  \n",
       "7  France   1.3        High    \n",
       "8  Germany  0.3        High    \n",
       "9  Greece   1.9        Low     \n",
       "10 Italy    0.3        Medium  "
      ]
     },
     "metadata": {},
     "output_type": "display_data"
    }
   ],
   "source": [
    "head(data_multiple_repetitions, 10)"
   ]
  },
  {
   "cell_type": "code",
   "execution_count": 70,
   "id": "3e34a34f-ef70-454e-a89c-231a02fbb633",
   "metadata": {},
   "outputs": [
    {
     "data": {
      "text/html": [
       "<table>\n",
       "<thead><tr><th></th><th scope=col>country</th><th scope=col>gdp_growth</th><th scope=col>mkt_type</th></tr></thead>\n",
       "<tbody>\n",
       "\t<tr><th scope=row>15</th><td>Greece  </td><td>1.9     </td><td>Low     </td></tr>\n",
       "\t<tr><th scope=row>16</th><td>Italy   </td><td>0.3     </td><td>Medium  </td></tr>\n",
       "\t<tr><th scope=row>17</th><td>Portugal</td><td> NA     </td><td>Low     </td></tr>\n",
       "\t<tr><th scope=row>18</th><td>Spain   </td><td>2.0     </td><td>Medium  </td></tr>\n",
       "\t<tr><th scope=row>19</th><td>France  </td><td>1.3     </td><td>High    </td></tr>\n",
       "\t<tr><th scope=row>20</th><td>Germany </td><td>0.3     </td><td>High    </td></tr>\n",
       "\t<tr><th scope=row>21</th><td>Greece  </td><td>1.9     </td><td>Low     </td></tr>\n",
       "\t<tr><th scope=row>22</th><td>Italy   </td><td>0.3     </td><td>Medium  </td></tr>\n",
       "\t<tr><th scope=row>23</th><td>Portugal</td><td> NA     </td><td>Low     </td></tr>\n",
       "\t<tr><th scope=row>24</th><td>Spain   </td><td>2.0     </td><td>Medium  </td></tr>\n",
       "</tbody>\n",
       "</table>\n"
      ],
      "text/latex": [
       "\\begin{tabular}{r|lll}\n",
       "  & country & gdp\\_growth & mkt\\_type\\\\\n",
       "\\hline\n",
       "\t15 & Greece   & 1.9      & Low     \\\\\n",
       "\t16 & Italy    & 0.3      & Medium  \\\\\n",
       "\t17 & Portugal &  NA      & Low     \\\\\n",
       "\t18 & Spain    & 2.0      & Medium  \\\\\n",
       "\t19 & France   & 1.3      & High    \\\\\n",
       "\t20 & Germany  & 0.3      & High    \\\\\n",
       "\t21 & Greece   & 1.9      & Low     \\\\\n",
       "\t22 & Italy    & 0.3      & Medium  \\\\\n",
       "\t23 & Portugal &  NA      & Low     \\\\\n",
       "\t24 & Spain    & 2.0      & Medium  \\\\\n",
       "\\end{tabular}\n"
      ],
      "text/markdown": [
       "\n",
       "| <!--/--> | country | gdp_growth | mkt_type |\n",
       "|---|---|---|---|\n",
       "| 15 | Greece   | 1.9      | Low      |\n",
       "| 16 | Italy    | 0.3      | Medium   |\n",
       "| 17 | Portugal |  NA      | Low      |\n",
       "| 18 | Spain    | 2.0      | Medium   |\n",
       "| 19 | France   | 1.3      | High     |\n",
       "| 20 | Germany  | 0.3      | High     |\n",
       "| 21 | Greece   | 1.9      | Low      |\n",
       "| 22 | Italy    | 0.3      | Medium   |\n",
       "| 23 | Portugal |  NA      | Low      |\n",
       "| 24 | Spain    | 2.0      | Medium   |\n",
       "\n"
      ],
      "text/plain": [
       "   country  gdp_growth mkt_type\n",
       "15 Greece   1.9        Low     \n",
       "16 Italy    0.3        Medium  \n",
       "17 Portugal  NA        Low     \n",
       "18 Spain    2.0        Medium  \n",
       "19 France   1.3        High    \n",
       "20 Germany  0.3        High    \n",
       "21 Greece   1.9        Low     \n",
       "22 Italy    0.3        Medium  \n",
       "23 Portugal  NA        Low     \n",
       "24 Spain    2.0        Medium  "
      ]
     },
     "metadata": {},
     "output_type": "display_data"
    }
   ],
   "source": [
    "tail(data_multiple_repetitions, 10)"
   ]
  },
  {
   "cell_type": "markdown",
   "id": "1083426c-4a58-4830-ad98-bcfa62daacd4",
   "metadata": {},
   "source": [
    "#### Checking dimensions of the dataframe"
   ]
  },
  {
   "cell_type": "code",
   "execution_count": 73,
   "id": "ee1ee969-c9b8-4901-ad76-73837727c7fb",
   "metadata": {},
   "outputs": [
    {
     "data": {
      "text/html": [
       "<ol class=list-inline>\n",
       "\t<li>24</li>\n",
       "\t<li>3</li>\n",
       "</ol>\n"
      ],
      "text/latex": [
       "\\begin{enumerate*}\n",
       "\\item 24\n",
       "\\item 3\n",
       "\\end{enumerate*}\n"
      ],
      "text/markdown": [
       "1. 24\n",
       "2. 3\n",
       "\n",
       "\n"
      ],
      "text/plain": [
       "[1] 24  3"
      ]
     },
     "metadata": {},
     "output_type": "display_data"
    }
   ],
   "source": [
    "dim(data_multiple_repetitions)"
   ]
  },
  {
   "cell_type": "markdown",
   "id": "4e909729-71c0-410b-a6f2-b4c780bdb371",
   "metadata": {},
   "source": [
    "#### Number of rows"
   ]
  },
  {
   "cell_type": "code",
   "execution_count": 76,
   "id": "65590695-9912-454b-b268-c6282c6bcdb2",
   "metadata": {},
   "outputs": [
    {
     "data": {
      "text/html": [
       "24"
      ],
      "text/latex": [
       "24"
      ],
      "text/markdown": [
       "24"
      ],
      "text/plain": [
       "[1] 24"
      ]
     },
     "metadata": {},
     "output_type": "display_data"
    }
   ],
   "source": [
    "nrow(data_multiple_repetitions)"
   ]
  },
  {
   "cell_type": "code",
   "execution_count": 78,
   "id": "83077ae3-0946-4b87-80c2-1cb8f7904ac3",
   "metadata": {},
   "outputs": [
    {
     "data": {
      "text/html": [
       "3"
      ],
      "text/latex": [
       "3"
      ],
      "text/markdown": [
       "3"
      ],
      "text/plain": [
       "[1] 3"
      ]
     },
     "metadata": {},
     "output_type": "display_data"
    }
   ],
   "source": [
    "ncol(data_multiple_repetitions)"
   ]
  },
  {
   "cell_type": "code",
   "execution_count": 80,
   "id": "406d265a-cc8b-4c3e-bf4d-301796bddb80",
   "metadata": {},
   "outputs": [
    {
     "data": {
      "text/html": [
       "24"
      ],
      "text/latex": [
       "24"
      ],
      "text/markdown": [
       "24"
      ],
      "text/plain": [
       "[1] 24"
      ]
     },
     "metadata": {},
     "output_type": "display_data"
    }
   ],
   "source": [
    "dim(data_multiple_repetitions)[1]"
   ]
  },
  {
   "cell_type": "code",
   "execution_count": 82,
   "id": "76aca839-ed49-4810-a540-f9fc0237bdee",
   "metadata": {},
   "outputs": [
    {
     "data": {
      "text/html": [
       "3"
      ],
      "text/latex": [
       "3"
      ],
      "text/markdown": [
       "3"
      ],
      "text/plain": [
       "[1] 3"
      ]
     },
     "metadata": {},
     "output_type": "display_data"
    }
   ],
   "source": [
    "dim(data_multiple_repetitions)[2]"
   ]
  },
  {
   "cell_type": "markdown",
   "id": "89164b1f-a093-4a07-b965-c2b421261b35",
   "metadata": {},
   "source": [
    "#### Row names & column names"
   ]
  },
  {
   "cell_type": "code",
   "execution_count": 85,
   "id": "72ea93ea-6324-4734-b7b4-c914db949245",
   "metadata": {},
   "outputs": [
    {
     "data": {
      "text/html": [
       "<ol class=list-inline>\n",
       "\t<li>'1'</li>\n",
       "\t<li>'2'</li>\n",
       "\t<li>'3'</li>\n",
       "\t<li>'4'</li>\n",
       "\t<li>'5'</li>\n",
       "\t<li>'6'</li>\n",
       "\t<li>'7'</li>\n",
       "\t<li>'8'</li>\n",
       "\t<li>'9'</li>\n",
       "\t<li>'10'</li>\n",
       "\t<li>'11'</li>\n",
       "\t<li>'12'</li>\n",
       "\t<li>'13'</li>\n",
       "\t<li>'14'</li>\n",
       "\t<li>'15'</li>\n",
       "\t<li>'16'</li>\n",
       "\t<li>'17'</li>\n",
       "\t<li>'18'</li>\n",
       "\t<li>'19'</li>\n",
       "\t<li>'20'</li>\n",
       "\t<li>'21'</li>\n",
       "\t<li>'22'</li>\n",
       "\t<li>'23'</li>\n",
       "\t<li>'24'</li>\n",
       "</ol>\n"
      ],
      "text/latex": [
       "\\begin{enumerate*}\n",
       "\\item '1'\n",
       "\\item '2'\n",
       "\\item '3'\n",
       "\\item '4'\n",
       "\\item '5'\n",
       "\\item '6'\n",
       "\\item '7'\n",
       "\\item '8'\n",
       "\\item '9'\n",
       "\\item '10'\n",
       "\\item '11'\n",
       "\\item '12'\n",
       "\\item '13'\n",
       "\\item '14'\n",
       "\\item '15'\n",
       "\\item '16'\n",
       "\\item '17'\n",
       "\\item '18'\n",
       "\\item '19'\n",
       "\\item '20'\n",
       "\\item '21'\n",
       "\\item '22'\n",
       "\\item '23'\n",
       "\\item '24'\n",
       "\\end{enumerate*}\n"
      ],
      "text/markdown": [
       "1. '1'\n",
       "2. '2'\n",
       "3. '3'\n",
       "4. '4'\n",
       "5. '5'\n",
       "6. '6'\n",
       "7. '7'\n",
       "8. '8'\n",
       "9. '9'\n",
       "10. '10'\n",
       "11. '11'\n",
       "12. '12'\n",
       "13. '13'\n",
       "14. '14'\n",
       "15. '15'\n",
       "16. '16'\n",
       "17. '17'\n",
       "18. '18'\n",
       "19. '19'\n",
       "20. '20'\n",
       "21. '21'\n",
       "22. '22'\n",
       "23. '23'\n",
       "24. '24'\n",
       "\n",
       "\n"
      ],
      "text/plain": [
       " [1] \"1\"  \"2\"  \"3\"  \"4\"  \"5\"  \"6\"  \"7\"  \"8\"  \"9\"  \"10\" \"11\" \"12\" \"13\" \"14\" \"15\"\n",
       "[16] \"16\" \"17\" \"18\" \"19\" \"20\" \"21\" \"22\" \"23\" \"24\""
      ]
     },
     "metadata": {},
     "output_type": "display_data"
    }
   ],
   "source": [
    "rownames(data_multiple_repetitions)"
   ]
  },
  {
   "cell_type": "code",
   "execution_count": 87,
   "id": "4e0457de-faf5-49c1-98d6-158227d6011c",
   "metadata": {},
   "outputs": [
    {
     "data": {
      "text/html": [
       "<ol class=list-inline>\n",
       "\t<li>'row_1'</li>\n",
       "\t<li>'row_2'</li>\n",
       "\t<li>'row_3'</li>\n",
       "\t<li>'row_4'</li>\n",
       "\t<li>'row_5'</li>\n",
       "\t<li>'row_6'</li>\n",
       "\t<li>'row_7'</li>\n",
       "\t<li>'row_8'</li>\n",
       "\t<li>'row_9'</li>\n",
       "\t<li>'row_10'</li>\n",
       "\t<li>'row_11'</li>\n",
       "\t<li>'row_12'</li>\n",
       "\t<li>'row_13'</li>\n",
       "\t<li>'row_14'</li>\n",
       "\t<li>'row_15'</li>\n",
       "\t<li>'row_16'</li>\n",
       "\t<li>'row_17'</li>\n",
       "\t<li>'row_18'</li>\n",
       "\t<li>'row_19'</li>\n",
       "\t<li>'row_20'</li>\n",
       "\t<li>'row_21'</li>\n",
       "\t<li>'row_22'</li>\n",
       "\t<li>'row_23'</li>\n",
       "\t<li>'row_24'</li>\n",
       "</ol>\n"
      ],
      "text/latex": [
       "\\begin{enumerate*}\n",
       "\\item 'row\\_1'\n",
       "\\item 'row\\_2'\n",
       "\\item 'row\\_3'\n",
       "\\item 'row\\_4'\n",
       "\\item 'row\\_5'\n",
       "\\item 'row\\_6'\n",
       "\\item 'row\\_7'\n",
       "\\item 'row\\_8'\n",
       "\\item 'row\\_9'\n",
       "\\item 'row\\_10'\n",
       "\\item 'row\\_11'\n",
       "\\item 'row\\_12'\n",
       "\\item 'row\\_13'\n",
       "\\item 'row\\_14'\n",
       "\\item 'row\\_15'\n",
       "\\item 'row\\_16'\n",
       "\\item 'row\\_17'\n",
       "\\item 'row\\_18'\n",
       "\\item 'row\\_19'\n",
       "\\item 'row\\_20'\n",
       "\\item 'row\\_21'\n",
       "\\item 'row\\_22'\n",
       "\\item 'row\\_23'\n",
       "\\item 'row\\_24'\n",
       "\\end{enumerate*}\n"
      ],
      "text/markdown": [
       "1. 'row_1'\n",
       "2. 'row_2'\n",
       "3. 'row_3'\n",
       "4. 'row_4'\n",
       "5. 'row_5'\n",
       "6. 'row_6'\n",
       "7. 'row_7'\n",
       "8. 'row_8'\n",
       "9. 'row_9'\n",
       "10. 'row_10'\n",
       "11. 'row_11'\n",
       "12. 'row_12'\n",
       "13. 'row_13'\n",
       "14. 'row_14'\n",
       "15. 'row_15'\n",
       "16. 'row_16'\n",
       "17. 'row_17'\n",
       "18. 'row_18'\n",
       "19. 'row_19'\n",
       "20. 'row_20'\n",
       "21. 'row_21'\n",
       "22. 'row_22'\n",
       "23. 'row_23'\n",
       "24. 'row_24'\n",
       "\n",
       "\n"
      ],
      "text/plain": [
       " [1] \"row_1\"  \"row_2\"  \"row_3\"  \"row_4\"  \"row_5\"  \"row_6\"  \"row_7\"  \"row_8\" \n",
       " [9] \"row_9\"  \"row_10\" \"row_11\" \"row_12\" \"row_13\" \"row_14\" \"row_15\" \"row_16\"\n",
       "[17] \"row_17\" \"row_18\" \"row_19\" \"row_20\" \"row_21\" \"row_22\" \"row_23\" \"row_24\""
      ]
     },
     "metadata": {},
     "output_type": "display_data"
    }
   ],
   "source": [
    "rownames(data_multiple_repetitions) <- paste0('row_', rownames(data_multiple_repetitions))\n",
    "rownames(data_multiple_repetitions)"
   ]
  },
  {
   "cell_type": "code",
   "execution_count": 89,
   "id": "dad0a7cf-b97b-461e-8da8-67173addef59",
   "metadata": {},
   "outputs": [
    {
     "data": {
      "text/html": [
       "<table>\n",
       "<thead><tr><th></th><th scope=col>country</th><th scope=col>gdp_growth</th><th scope=col>mkt_type</th></tr></thead>\n",
       "<tbody>\n",
       "\t<tr><th scope=row>row_1</th><td>France  </td><td>1.3     </td><td>High    </td></tr>\n",
       "\t<tr><th scope=row>row_2</th><td>Germany </td><td>0.3     </td><td>High    </td></tr>\n",
       "\t<tr><th scope=row>row_3</th><td>Greece  </td><td>1.9     </td><td>Low     </td></tr>\n",
       "\t<tr><th scope=row>row_4</th><td>Italy   </td><td>0.3     </td><td>Medium  </td></tr>\n",
       "\t<tr><th scope=row>row_5</th><td>Portugal</td><td> NA     </td><td>Low     </td></tr>\n",
       "\t<tr><th scope=row>row_6</th><td>Spain   </td><td>2.0     </td><td>Medium  </td></tr>\n",
       "\t<tr><th scope=row>row_7</th><td>France  </td><td>1.3     </td><td>High    </td></tr>\n",
       "\t<tr><th scope=row>row_8</th><td>Germany </td><td>0.3     </td><td>High    </td></tr>\n",
       "\t<tr><th scope=row>row_9</th><td>Greece  </td><td>1.9     </td><td>Low     </td></tr>\n",
       "\t<tr><th scope=row>row_10</th><td>Italy   </td><td>0.3     </td><td>Medium  </td></tr>\n",
       "\t<tr><th scope=row>row_11</th><td>Portugal</td><td> NA     </td><td>Low     </td></tr>\n",
       "\t<tr><th scope=row>row_12</th><td>Spain   </td><td>2.0     </td><td>Medium  </td></tr>\n",
       "\t<tr><th scope=row>row_13</th><td>France  </td><td>1.3     </td><td>High    </td></tr>\n",
       "\t<tr><th scope=row>row_14</th><td>Germany </td><td>0.3     </td><td>High    </td></tr>\n",
       "\t<tr><th scope=row>row_15</th><td>Greece  </td><td>1.9     </td><td>Low     </td></tr>\n",
       "\t<tr><th scope=row>row_16</th><td>Italy   </td><td>0.3     </td><td>Medium  </td></tr>\n",
       "\t<tr><th scope=row>row_17</th><td>Portugal</td><td> NA     </td><td>Low     </td></tr>\n",
       "\t<tr><th scope=row>row_18</th><td>Spain   </td><td>2.0     </td><td>Medium  </td></tr>\n",
       "\t<tr><th scope=row>row_19</th><td>France  </td><td>1.3     </td><td>High    </td></tr>\n",
       "\t<tr><th scope=row>row_20</th><td>Germany </td><td>0.3     </td><td>High    </td></tr>\n",
       "\t<tr><th scope=row>row_21</th><td>Greece  </td><td>1.9     </td><td>Low     </td></tr>\n",
       "\t<tr><th scope=row>row_22</th><td>Italy   </td><td>0.3     </td><td>Medium  </td></tr>\n",
       "\t<tr><th scope=row>row_23</th><td>Portugal</td><td> NA     </td><td>Low     </td></tr>\n",
       "\t<tr><th scope=row>row_24</th><td>Spain   </td><td>2.0     </td><td>Medium  </td></tr>\n",
       "</tbody>\n",
       "</table>\n"
      ],
      "text/latex": [
       "\\begin{tabular}{r|lll}\n",
       "  & country & gdp\\_growth & mkt\\_type\\\\\n",
       "\\hline\n",
       "\trow\\_1 & France   & 1.3      & High    \\\\\n",
       "\trow\\_2 & Germany  & 0.3      & High    \\\\\n",
       "\trow\\_3 & Greece   & 1.9      & Low     \\\\\n",
       "\trow\\_4 & Italy    & 0.3      & Medium  \\\\\n",
       "\trow\\_5 & Portugal &  NA      & Low     \\\\\n",
       "\trow\\_6 & Spain    & 2.0      & Medium  \\\\\n",
       "\trow\\_7 & France   & 1.3      & High    \\\\\n",
       "\trow\\_8 & Germany  & 0.3      & High    \\\\\n",
       "\trow\\_9 & Greece   & 1.9      & Low     \\\\\n",
       "\trow\\_10 & Italy    & 0.3      & Medium  \\\\\n",
       "\trow\\_11 & Portugal &  NA      & Low     \\\\\n",
       "\trow\\_12 & Spain    & 2.0      & Medium  \\\\\n",
       "\trow\\_13 & France   & 1.3      & High    \\\\\n",
       "\trow\\_14 & Germany  & 0.3      & High    \\\\\n",
       "\trow\\_15 & Greece   & 1.9      & Low     \\\\\n",
       "\trow\\_16 & Italy    & 0.3      & Medium  \\\\\n",
       "\trow\\_17 & Portugal &  NA      & Low     \\\\\n",
       "\trow\\_18 & Spain    & 2.0      & Medium  \\\\\n",
       "\trow\\_19 & France   & 1.3      & High    \\\\\n",
       "\trow\\_20 & Germany  & 0.3      & High    \\\\\n",
       "\trow\\_21 & Greece   & 1.9      & Low     \\\\\n",
       "\trow\\_22 & Italy    & 0.3      & Medium  \\\\\n",
       "\trow\\_23 & Portugal &  NA      & Low     \\\\\n",
       "\trow\\_24 & Spain    & 2.0      & Medium  \\\\\n",
       "\\end{tabular}\n"
      ],
      "text/markdown": [
       "\n",
       "| <!--/--> | country | gdp_growth | mkt_type |\n",
       "|---|---|---|---|\n",
       "| row_1 | France   | 1.3      | High     |\n",
       "| row_2 | Germany  | 0.3      | High     |\n",
       "| row_3 | Greece   | 1.9      | Low      |\n",
       "| row_4 | Italy    | 0.3      | Medium   |\n",
       "| row_5 | Portugal |  NA      | Low      |\n",
       "| row_6 | Spain    | 2.0      | Medium   |\n",
       "| row_7 | France   | 1.3      | High     |\n",
       "| row_8 | Germany  | 0.3      | High     |\n",
       "| row_9 | Greece   | 1.9      | Low      |\n",
       "| row_10 | Italy    | 0.3      | Medium   |\n",
       "| row_11 | Portugal |  NA      | Low      |\n",
       "| row_12 | Spain    | 2.0      | Medium   |\n",
       "| row_13 | France   | 1.3      | High     |\n",
       "| row_14 | Germany  | 0.3      | High     |\n",
       "| row_15 | Greece   | 1.9      | Low      |\n",
       "| row_16 | Italy    | 0.3      | Medium   |\n",
       "| row_17 | Portugal |  NA      | Low      |\n",
       "| row_18 | Spain    | 2.0      | Medium   |\n",
       "| row_19 | France   | 1.3      | High     |\n",
       "| row_20 | Germany  | 0.3      | High     |\n",
       "| row_21 | Greece   | 1.9      | Low      |\n",
       "| row_22 | Italy    | 0.3      | Medium   |\n",
       "| row_23 | Portugal |  NA      | Low      |\n",
       "| row_24 | Spain    | 2.0      | Medium   |\n",
       "\n"
      ],
      "text/plain": [
       "       country  gdp_growth mkt_type\n",
       "row_1  France   1.3        High    \n",
       "row_2  Germany  0.3        High    \n",
       "row_3  Greece   1.9        Low     \n",
       "row_4  Italy    0.3        Medium  \n",
       "row_5  Portugal  NA        Low     \n",
       "row_6  Spain    2.0        Medium  \n",
       "row_7  France   1.3        High    \n",
       "row_8  Germany  0.3        High    \n",
       "row_9  Greece   1.9        Low     \n",
       "row_10 Italy    0.3        Medium  \n",
       "row_11 Portugal  NA        Low     \n",
       "row_12 Spain    2.0        Medium  \n",
       "row_13 France   1.3        High    \n",
       "row_14 Germany  0.3        High    \n",
       "row_15 Greece   1.9        Low     \n",
       "row_16 Italy    0.3        Medium  \n",
       "row_17 Portugal  NA        Low     \n",
       "row_18 Spain    2.0        Medium  \n",
       "row_19 France   1.3        High    \n",
       "row_20 Germany  0.3        High    \n",
       "row_21 Greece   1.9        Low     \n",
       "row_22 Italy    0.3        Medium  \n",
       "row_23 Portugal  NA        Low     \n",
       "row_24 Spain    2.0        Medium  "
      ]
     },
     "metadata": {},
     "output_type": "display_data"
    }
   ],
   "source": [
    "data_multiple_repetitions"
   ]
  },
  {
   "cell_type": "code",
   "execution_count": 91,
   "id": "55dcd042-a3d5-4ae3-894a-f6506574960f",
   "metadata": {},
   "outputs": [
    {
     "data": {
      "text/html": [
       "<ol class=list-inline>\n",
       "\t<li>'country'</li>\n",
       "\t<li>'gdp_growth'</li>\n",
       "\t<li>'mkt_type'</li>\n",
       "</ol>\n"
      ],
      "text/latex": [
       "\\begin{enumerate*}\n",
       "\\item 'country'\n",
       "\\item 'gdp\\_growth'\n",
       "\\item 'mkt\\_type'\n",
       "\\end{enumerate*}\n"
      ],
      "text/markdown": [
       "1. 'country'\n",
       "2. 'gdp_growth'\n",
       "3. 'mkt_type'\n",
       "\n",
       "\n"
      ],
      "text/plain": [
       "[1] \"country\"    \"gdp_growth\" \"mkt_type\"  "
      ]
     },
     "metadata": {},
     "output_type": "display_data"
    }
   ],
   "source": [
    "colnames(data_multiple_repetitions)"
   ]
  },
  {
   "cell_type": "code",
   "execution_count": 93,
   "id": "9175be77-dc6e-4b78-baab-5ebba01227f5",
   "metadata": {},
   "outputs": [],
   "source": [
    "colnames(data_multiple_repetitions) <- c(\"Country\", \"GDP Growth\", \"Market Type\")"
   ]
  },
  {
   "cell_type": "code",
   "execution_count": 95,
   "id": "33e9a863-cdaf-4cdb-80cf-3f34055df4fd",
   "metadata": {},
   "outputs": [
    {
     "data": {
      "text/html": [
       "<ol class=list-inline>\n",
       "\t<li>'Country'</li>\n",
       "\t<li>'GDP Growth'</li>\n",
       "\t<li>'Market Type'</li>\n",
       "</ol>\n"
      ],
      "text/latex": [
       "\\begin{enumerate*}\n",
       "\\item 'Country'\n",
       "\\item 'GDP Growth'\n",
       "\\item 'Market Type'\n",
       "\\end{enumerate*}\n"
      ],
      "text/markdown": [
       "1. 'Country'\n",
       "2. 'GDP Growth'\n",
       "3. 'Market Type'\n",
       "\n",
       "\n"
      ],
      "text/plain": [
       "[1] \"Country\"     \"GDP Growth\"  \"Market Type\""
      ]
     },
     "metadata": {},
     "output_type": "display_data"
    }
   ],
   "source": [
    "colnames(data_multiple_repetitions)"
   ]
  },
  {
   "cell_type": "code",
   "execution_count": 97,
   "id": "dc0b4a67-b632-4e9f-a171-0144bb1c4714",
   "metadata": {},
   "outputs": [
    {
     "data": {
      "text/html": [
       "<table>\n",
       "<thead><tr><th></th><th scope=col>Country</th><th scope=col>GDP Growth</th><th scope=col>Market Type</th></tr></thead>\n",
       "<tbody>\n",
       "\t<tr><th scope=row>row_1</th><td>France  </td><td>1.3     </td><td>High    </td></tr>\n",
       "\t<tr><th scope=row>row_2</th><td>Germany </td><td>0.3     </td><td>High    </td></tr>\n",
       "\t<tr><th scope=row>row_3</th><td>Greece  </td><td>1.9     </td><td>Low     </td></tr>\n",
       "\t<tr><th scope=row>row_4</th><td>Italy   </td><td>0.3     </td><td>Medium  </td></tr>\n",
       "\t<tr><th scope=row>row_5</th><td>Portugal</td><td> NA     </td><td>Low     </td></tr>\n",
       "\t<tr><th scope=row>row_6</th><td>Spain   </td><td>2.0     </td><td>Medium  </td></tr>\n",
       "\t<tr><th scope=row>row_7</th><td>France  </td><td>1.3     </td><td>High    </td></tr>\n",
       "\t<tr><th scope=row>row_8</th><td>Germany </td><td>0.3     </td><td>High    </td></tr>\n",
       "\t<tr><th scope=row>row_9</th><td>Greece  </td><td>1.9     </td><td>Low     </td></tr>\n",
       "\t<tr><th scope=row>row_10</th><td>Italy   </td><td>0.3     </td><td>Medium  </td></tr>\n",
       "\t<tr><th scope=row>row_11</th><td>Portugal</td><td> NA     </td><td>Low     </td></tr>\n",
       "\t<tr><th scope=row>row_12</th><td>Spain   </td><td>2.0     </td><td>Medium  </td></tr>\n",
       "\t<tr><th scope=row>row_13</th><td>France  </td><td>1.3     </td><td>High    </td></tr>\n",
       "\t<tr><th scope=row>row_14</th><td>Germany </td><td>0.3     </td><td>High    </td></tr>\n",
       "\t<tr><th scope=row>row_15</th><td>Greece  </td><td>1.9     </td><td>Low     </td></tr>\n",
       "\t<tr><th scope=row>row_16</th><td>Italy   </td><td>0.3     </td><td>Medium  </td></tr>\n",
       "\t<tr><th scope=row>row_17</th><td>Portugal</td><td> NA     </td><td>Low     </td></tr>\n",
       "\t<tr><th scope=row>row_18</th><td>Spain   </td><td>2.0     </td><td>Medium  </td></tr>\n",
       "\t<tr><th scope=row>row_19</th><td>France  </td><td>1.3     </td><td>High    </td></tr>\n",
       "\t<tr><th scope=row>row_20</th><td>Germany </td><td>0.3     </td><td>High    </td></tr>\n",
       "\t<tr><th scope=row>row_21</th><td>Greece  </td><td>1.9     </td><td>Low     </td></tr>\n",
       "\t<tr><th scope=row>row_22</th><td>Italy   </td><td>0.3     </td><td>Medium  </td></tr>\n",
       "\t<tr><th scope=row>row_23</th><td>Portugal</td><td> NA     </td><td>Low     </td></tr>\n",
       "\t<tr><th scope=row>row_24</th><td>Spain   </td><td>2.0     </td><td>Medium  </td></tr>\n",
       "</tbody>\n",
       "</table>\n"
      ],
      "text/latex": [
       "\\begin{tabular}{r|lll}\n",
       "  & Country & GDP Growth & Market Type\\\\\n",
       "\\hline\n",
       "\trow\\_1 & France   & 1.3      & High    \\\\\n",
       "\trow\\_2 & Germany  & 0.3      & High    \\\\\n",
       "\trow\\_3 & Greece   & 1.9      & Low     \\\\\n",
       "\trow\\_4 & Italy    & 0.3      & Medium  \\\\\n",
       "\trow\\_5 & Portugal &  NA      & Low     \\\\\n",
       "\trow\\_6 & Spain    & 2.0      & Medium  \\\\\n",
       "\trow\\_7 & France   & 1.3      & High    \\\\\n",
       "\trow\\_8 & Germany  & 0.3      & High    \\\\\n",
       "\trow\\_9 & Greece   & 1.9      & Low     \\\\\n",
       "\trow\\_10 & Italy    & 0.3      & Medium  \\\\\n",
       "\trow\\_11 & Portugal &  NA      & Low     \\\\\n",
       "\trow\\_12 & Spain    & 2.0      & Medium  \\\\\n",
       "\trow\\_13 & France   & 1.3      & High    \\\\\n",
       "\trow\\_14 & Germany  & 0.3      & High    \\\\\n",
       "\trow\\_15 & Greece   & 1.9      & Low     \\\\\n",
       "\trow\\_16 & Italy    & 0.3      & Medium  \\\\\n",
       "\trow\\_17 & Portugal &  NA      & Low     \\\\\n",
       "\trow\\_18 & Spain    & 2.0      & Medium  \\\\\n",
       "\trow\\_19 & France   & 1.3      & High    \\\\\n",
       "\trow\\_20 & Germany  & 0.3      & High    \\\\\n",
       "\trow\\_21 & Greece   & 1.9      & Low     \\\\\n",
       "\trow\\_22 & Italy    & 0.3      & Medium  \\\\\n",
       "\trow\\_23 & Portugal &  NA      & Low     \\\\\n",
       "\trow\\_24 & Spain    & 2.0      & Medium  \\\\\n",
       "\\end{tabular}\n"
      ],
      "text/markdown": [
       "\n",
       "| <!--/--> | Country | GDP Growth | Market Type |\n",
       "|---|---|---|---|\n",
       "| row_1 | France   | 1.3      | High     |\n",
       "| row_2 | Germany  | 0.3      | High     |\n",
       "| row_3 | Greece   | 1.9      | Low      |\n",
       "| row_4 | Italy    | 0.3      | Medium   |\n",
       "| row_5 | Portugal |  NA      | Low      |\n",
       "| row_6 | Spain    | 2.0      | Medium   |\n",
       "| row_7 | France   | 1.3      | High     |\n",
       "| row_8 | Germany  | 0.3      | High     |\n",
       "| row_9 | Greece   | 1.9      | Low      |\n",
       "| row_10 | Italy    | 0.3      | Medium   |\n",
       "| row_11 | Portugal |  NA      | Low      |\n",
       "| row_12 | Spain    | 2.0      | Medium   |\n",
       "| row_13 | France   | 1.3      | High     |\n",
       "| row_14 | Germany  | 0.3      | High     |\n",
       "| row_15 | Greece   | 1.9      | Low      |\n",
       "| row_16 | Italy    | 0.3      | Medium   |\n",
       "| row_17 | Portugal |  NA      | Low      |\n",
       "| row_18 | Spain    | 2.0      | Medium   |\n",
       "| row_19 | France   | 1.3      | High     |\n",
       "| row_20 | Germany  | 0.3      | High     |\n",
       "| row_21 | Greece   | 1.9      | Low      |\n",
       "| row_22 | Italy    | 0.3      | Medium   |\n",
       "| row_23 | Portugal |  NA      | Low      |\n",
       "| row_24 | Spain    | 2.0      | Medium   |\n",
       "\n"
      ],
      "text/plain": [
       "       Country  GDP Growth Market Type\n",
       "row_1  France   1.3        High       \n",
       "row_2  Germany  0.3        High       \n",
       "row_3  Greece   1.9        Low        \n",
       "row_4  Italy    0.3        Medium     \n",
       "row_5  Portugal  NA        Low        \n",
       "row_6  Spain    2.0        Medium     \n",
       "row_7  France   1.3        High       \n",
       "row_8  Germany  0.3        High       \n",
       "row_9  Greece   1.9        Low        \n",
       "row_10 Italy    0.3        Medium     \n",
       "row_11 Portugal  NA        Low        \n",
       "row_12 Spain    2.0        Medium     \n",
       "row_13 France   1.3        High       \n",
       "row_14 Germany  0.3        High       \n",
       "row_15 Greece   1.9        Low        \n",
       "row_16 Italy    0.3        Medium     \n",
       "row_17 Portugal  NA        Low        \n",
       "row_18 Spain    2.0        Medium     \n",
       "row_19 France   1.3        High       \n",
       "row_20 Germany  0.3        High       \n",
       "row_21 Greece   1.9        Low        \n",
       "row_22 Italy    0.3        Medium     \n",
       "row_23 Portugal  NA        Low        \n",
       "row_24 Spain    2.0        Medium     "
      ]
     },
     "metadata": {},
     "output_type": "display_data"
    }
   ],
   "source": [
    "data_multiple_repetitions"
   ]
  },
  {
   "cell_type": "markdown",
   "id": "2a9e3af2-276d-4bbb-addf-27e49c674f4b",
   "metadata": {},
   "source": [
    "#### Access the columns with space in the column name"
   ]
  },
  {
   "cell_type": "code",
   "execution_count": 100,
   "id": "dd6520d7-62e0-44aa-8a87-b99c4c83e3cc",
   "metadata": {},
   "outputs": [
    {
     "data": {
      "text/html": [
       "<ol class=list-inline>\n",
       "\t<li>'Country'</li>\n",
       "\t<li>'GDP Growth'</li>\n",
       "\t<li>'Market Type'</li>\n",
       "</ol>\n"
      ],
      "text/latex": [
       "\\begin{enumerate*}\n",
       "\\item 'Country'\n",
       "\\item 'GDP Growth'\n",
       "\\item 'Market Type'\n",
       "\\end{enumerate*}\n"
      ],
      "text/markdown": [
       "1. 'Country'\n",
       "2. 'GDP Growth'\n",
       "3. 'Market Type'\n",
       "\n",
       "\n"
      ],
      "text/plain": [
       "[1] \"Country\"     \"GDP Growth\"  \"Market Type\""
      ]
     },
     "metadata": {},
     "output_type": "display_data"
    }
   ],
   "source": [
    "colnames(data_multiple_repetitions)"
   ]
  },
  {
   "cell_type": "code",
   "execution_count": 102,
   "id": "a81d2b8b-daa1-4629-8cac-5d1f0ad5669f",
   "metadata": {},
   "outputs": [
    {
     "data": {
      "text/html": [
       "<ol class=list-inline>\n",
       "\t<li>1.3</li>\n",
       "\t<li>0.3</li>\n",
       "\t<li>1.9</li>\n",
       "\t<li>0.3</li>\n",
       "\t<li>&lt;NA&gt;</li>\n",
       "\t<li>2</li>\n",
       "\t<li>1.3</li>\n",
       "\t<li>0.3</li>\n",
       "\t<li>1.9</li>\n",
       "\t<li>0.3</li>\n",
       "\t<li>&lt;NA&gt;</li>\n",
       "\t<li>2</li>\n",
       "\t<li>1.3</li>\n",
       "\t<li>0.3</li>\n",
       "\t<li>1.9</li>\n",
       "\t<li>0.3</li>\n",
       "\t<li>&lt;NA&gt;</li>\n",
       "\t<li>2</li>\n",
       "\t<li>1.3</li>\n",
       "\t<li>0.3</li>\n",
       "\t<li>1.9</li>\n",
       "\t<li>0.3</li>\n",
       "\t<li>&lt;NA&gt;</li>\n",
       "\t<li>2</li>\n",
       "</ol>\n"
      ],
      "text/latex": [
       "\\begin{enumerate*}\n",
       "\\item 1.3\n",
       "\\item 0.3\n",
       "\\item 1.9\n",
       "\\item 0.3\n",
       "\\item <NA>\n",
       "\\item 2\n",
       "\\item 1.3\n",
       "\\item 0.3\n",
       "\\item 1.9\n",
       "\\item 0.3\n",
       "\\item <NA>\n",
       "\\item 2\n",
       "\\item 1.3\n",
       "\\item 0.3\n",
       "\\item 1.9\n",
       "\\item 0.3\n",
       "\\item <NA>\n",
       "\\item 2\n",
       "\\item 1.3\n",
       "\\item 0.3\n",
       "\\item 1.9\n",
       "\\item 0.3\n",
       "\\item <NA>\n",
       "\\item 2\n",
       "\\end{enumerate*}\n"
      ],
      "text/markdown": [
       "1. 1.3\n",
       "2. 0.3\n",
       "3. 1.9\n",
       "4. 0.3\n",
       "5. &lt;NA&gt;\n",
       "6. 2\n",
       "7. 1.3\n",
       "8. 0.3\n",
       "9. 1.9\n",
       "10. 0.3\n",
       "11. &lt;NA&gt;\n",
       "12. 2\n",
       "13. 1.3\n",
       "14. 0.3\n",
       "15. 1.9\n",
       "16. 0.3\n",
       "17. &lt;NA&gt;\n",
       "18. 2\n",
       "19. 1.3\n",
       "20. 0.3\n",
       "21. 1.9\n",
       "22. 0.3\n",
       "23. &lt;NA&gt;\n",
       "24. 2\n",
       "\n",
       "\n"
      ],
      "text/plain": [
       " [1] 1.3 0.3 1.9 0.3  NA 2.0 1.3 0.3 1.9 0.3  NA 2.0 1.3 0.3 1.9 0.3  NA 2.0 1.3\n",
       "[20] 0.3 1.9 0.3  NA 2.0"
      ]
     },
     "metadata": {},
     "output_type": "display_data"
    }
   ],
   "source": [
    "data_multiple_repetitions$`GDP Growth`"
   ]
  },
  {
   "cell_type": "markdown",
   "id": "dc3824f7-cdc2-44b3-88bf-e784d77e96c8",
   "metadata": {},
   "source": [
    "#### Summary of dataframe"
   ]
  },
  {
   "cell_type": "code",
   "execution_count": 105,
   "id": "f1b8bc25-08c9-46c3-9da3-660b822aeace",
   "metadata": {},
   "outputs": [
    {
     "data": {
      "text/plain": [
       "   Country            GDP Growth   Market Type\n",
       " Length:24          Min.   :0.30   High  :8   \n",
       " Class :character   1st Qu.:0.30   Low   :8   \n",
       " Mode  :character   Median :1.30   Medium:8   \n",
       "                    Mean   :1.16              \n",
       "                    3rd Qu.:1.90              \n",
       "                    Max.   :2.00              \n",
       "                    NA's   :4                 "
      ]
     },
     "metadata": {},
     "output_type": "display_data"
    }
   ],
   "source": [
    "summary(data_multiple_repetitions)"
   ]
  },
  {
   "cell_type": "markdown",
   "id": "5eb70ba0-b0d8-4e66-ab3b-f5cde67ab0a8",
   "metadata": {},
   "source": [
    "#### Unique rows"
   ]
  },
  {
   "cell_type": "code",
   "execution_count": 108,
   "id": "93e225fc-585c-4733-a35f-c4c5cf4ffbd3",
   "metadata": {},
   "outputs": [
    {
     "data": {
      "text/html": [
       "<table>\n",
       "<thead><tr><th></th><th scope=col>Country</th><th scope=col>GDP Growth</th><th scope=col>Market Type</th></tr></thead>\n",
       "<tbody>\n",
       "\t<tr><th scope=row>row_1</th><td>France  </td><td>1.3     </td><td>High    </td></tr>\n",
       "\t<tr><th scope=row>row_2</th><td>Germany </td><td>0.3     </td><td>High    </td></tr>\n",
       "\t<tr><th scope=row>row_3</th><td>Greece  </td><td>1.9     </td><td>Low     </td></tr>\n",
       "\t<tr><th scope=row>row_4</th><td>Italy   </td><td>0.3     </td><td>Medium  </td></tr>\n",
       "\t<tr><th scope=row>row_5</th><td>Portugal</td><td> NA     </td><td>Low     </td></tr>\n",
       "\t<tr><th scope=row>row_6</th><td>Spain   </td><td>2.0     </td><td>Medium  </td></tr>\n",
       "</tbody>\n",
       "</table>\n"
      ],
      "text/latex": [
       "\\begin{tabular}{r|lll}\n",
       "  & Country & GDP Growth & Market Type\\\\\n",
       "\\hline\n",
       "\trow\\_1 & France   & 1.3      & High    \\\\\n",
       "\trow\\_2 & Germany  & 0.3      & High    \\\\\n",
       "\trow\\_3 & Greece   & 1.9      & Low     \\\\\n",
       "\trow\\_4 & Italy    & 0.3      & Medium  \\\\\n",
       "\trow\\_5 & Portugal &  NA      & Low     \\\\\n",
       "\trow\\_6 & Spain    & 2.0      & Medium  \\\\\n",
       "\\end{tabular}\n"
      ],
      "text/markdown": [
       "\n",
       "| <!--/--> | Country | GDP Growth | Market Type |\n",
       "|---|---|---|---|\n",
       "| row_1 | France   | 1.3      | High     |\n",
       "| row_2 | Germany  | 0.3      | High     |\n",
       "| row_3 | Greece   | 1.9      | Low      |\n",
       "| row_4 | Italy    | 0.3      | Medium   |\n",
       "| row_5 | Portugal |  NA      | Low      |\n",
       "| row_6 | Spain    | 2.0      | Medium   |\n",
       "\n"
      ],
      "text/plain": [
       "      Country  GDP Growth Market Type\n",
       "row_1 France   1.3        High       \n",
       "row_2 Germany  0.3        High       \n",
       "row_3 Greece   1.9        Low        \n",
       "row_4 Italy    0.3        Medium     \n",
       "row_5 Portugal  NA        Low        \n",
       "row_6 Spain    2.0        Medium     "
      ]
     },
     "metadata": {},
     "output_type": "display_data"
    }
   ],
   "source": [
    "unique(data_multiple_repetitions)"
   ]
  },
  {
   "cell_type": "markdown",
   "id": "1e8a8568-2b7e-44f2-b0bd-2b56efb33587",
   "metadata": {},
   "source": [
    "#### Select, delete and subset"
   ]
  },
  {
   "cell_type": "markdown",
   "id": "57b0609d-4886-4dd5-9b56-15ff57a4341a",
   "metadata": {},
   "source": [
    "#### Access the individual columns"
   ]
  },
  {
   "cell_type": "code",
   "execution_count": 112,
   "id": "ea634ea2-4ec5-44f7-bc30-afa1651f39a8",
   "metadata": {},
   "outputs": [
    {
     "data": {
      "text/html": [
       "<ol class=list-inline>\n",
       "\t<li>'France'</li>\n",
       "\t<li>'Germany'</li>\n",
       "\t<li>'Greece'</li>\n",
       "\t<li>'Italy'</li>\n",
       "\t<li>'Portugal'</li>\n",
       "\t<li>'Spain'</li>\n",
       "\t<li>'France'</li>\n",
       "\t<li>'Germany'</li>\n",
       "\t<li>'Greece'</li>\n",
       "\t<li>'Italy'</li>\n",
       "\t<li>'Portugal'</li>\n",
       "\t<li>'Spain'</li>\n",
       "\t<li>'France'</li>\n",
       "\t<li>'Germany'</li>\n",
       "\t<li>'Greece'</li>\n",
       "\t<li>'Italy'</li>\n",
       "\t<li>'Portugal'</li>\n",
       "\t<li>'Spain'</li>\n",
       "\t<li>'France'</li>\n",
       "\t<li>'Germany'</li>\n",
       "\t<li>'Greece'</li>\n",
       "\t<li>'Italy'</li>\n",
       "\t<li>'Portugal'</li>\n",
       "\t<li>'Spain'</li>\n",
       "</ol>\n"
      ],
      "text/latex": [
       "\\begin{enumerate*}\n",
       "\\item 'France'\n",
       "\\item 'Germany'\n",
       "\\item 'Greece'\n",
       "\\item 'Italy'\n",
       "\\item 'Portugal'\n",
       "\\item 'Spain'\n",
       "\\item 'France'\n",
       "\\item 'Germany'\n",
       "\\item 'Greece'\n",
       "\\item 'Italy'\n",
       "\\item 'Portugal'\n",
       "\\item 'Spain'\n",
       "\\item 'France'\n",
       "\\item 'Germany'\n",
       "\\item 'Greece'\n",
       "\\item 'Italy'\n",
       "\\item 'Portugal'\n",
       "\\item 'Spain'\n",
       "\\item 'France'\n",
       "\\item 'Germany'\n",
       "\\item 'Greece'\n",
       "\\item 'Italy'\n",
       "\\item 'Portugal'\n",
       "\\item 'Spain'\n",
       "\\end{enumerate*}\n"
      ],
      "text/markdown": [
       "1. 'France'\n",
       "2. 'Germany'\n",
       "3. 'Greece'\n",
       "4. 'Italy'\n",
       "5. 'Portugal'\n",
       "6. 'Spain'\n",
       "7. 'France'\n",
       "8. 'Germany'\n",
       "9. 'Greece'\n",
       "10. 'Italy'\n",
       "11. 'Portugal'\n",
       "12. 'Spain'\n",
       "13. 'France'\n",
       "14. 'Germany'\n",
       "15. 'Greece'\n",
       "16. 'Italy'\n",
       "17. 'Portugal'\n",
       "18. 'Spain'\n",
       "19. 'France'\n",
       "20. 'Germany'\n",
       "21. 'Greece'\n",
       "22. 'Italy'\n",
       "23. 'Portugal'\n",
       "24. 'Spain'\n",
       "\n",
       "\n"
      ],
      "text/plain": [
       " [1] \"France\"   \"Germany\"  \"Greece\"   \"Italy\"    \"Portugal\" \"Spain\"   \n",
       " [7] \"France\"   \"Germany\"  \"Greece\"   \"Italy\"    \"Portugal\" \"Spain\"   \n",
       "[13] \"France\"   \"Germany\"  \"Greece\"   \"Italy\"    \"Portugal\" \"Spain\"   \n",
       "[19] \"France\"   \"Germany\"  \"Greece\"   \"Italy\"    \"Portugal\" \"Spain\"   "
      ]
     },
     "metadata": {},
     "output_type": "display_data"
    }
   ],
   "source": [
    "data_multiple_repetitions[, c(1)]"
   ]
  },
  {
   "cell_type": "code",
   "execution_count": 114,
   "id": "5a6f5ae5-c703-40c1-849a-f2eff9aac5a8",
   "metadata": {},
   "outputs": [
    {
     "data": {
      "text/html": [
       "<ol class=list-inline>\n",
       "\t<li>1.3</li>\n",
       "\t<li>0.3</li>\n",
       "\t<li>1.9</li>\n",
       "\t<li>0.3</li>\n",
       "\t<li>&lt;NA&gt;</li>\n",
       "\t<li>2</li>\n",
       "\t<li>1.3</li>\n",
       "\t<li>0.3</li>\n",
       "\t<li>1.9</li>\n",
       "\t<li>0.3</li>\n",
       "\t<li>&lt;NA&gt;</li>\n",
       "\t<li>2</li>\n",
       "\t<li>1.3</li>\n",
       "\t<li>0.3</li>\n",
       "\t<li>1.9</li>\n",
       "\t<li>0.3</li>\n",
       "\t<li>&lt;NA&gt;</li>\n",
       "\t<li>2</li>\n",
       "\t<li>1.3</li>\n",
       "\t<li>0.3</li>\n",
       "\t<li>1.9</li>\n",
       "\t<li>0.3</li>\n",
       "\t<li>&lt;NA&gt;</li>\n",
       "\t<li>2</li>\n",
       "</ol>\n"
      ],
      "text/latex": [
       "\\begin{enumerate*}\n",
       "\\item 1.3\n",
       "\\item 0.3\n",
       "\\item 1.9\n",
       "\\item 0.3\n",
       "\\item <NA>\n",
       "\\item 2\n",
       "\\item 1.3\n",
       "\\item 0.3\n",
       "\\item 1.9\n",
       "\\item 0.3\n",
       "\\item <NA>\n",
       "\\item 2\n",
       "\\item 1.3\n",
       "\\item 0.3\n",
       "\\item 1.9\n",
       "\\item 0.3\n",
       "\\item <NA>\n",
       "\\item 2\n",
       "\\item 1.3\n",
       "\\item 0.3\n",
       "\\item 1.9\n",
       "\\item 0.3\n",
       "\\item <NA>\n",
       "\\item 2\n",
       "\\end{enumerate*}\n"
      ],
      "text/markdown": [
       "1. 1.3\n",
       "2. 0.3\n",
       "3. 1.9\n",
       "4. 0.3\n",
       "5. &lt;NA&gt;\n",
       "6. 2\n",
       "7. 1.3\n",
       "8. 0.3\n",
       "9. 1.9\n",
       "10. 0.3\n",
       "11. &lt;NA&gt;\n",
       "12. 2\n",
       "13. 1.3\n",
       "14. 0.3\n",
       "15. 1.9\n",
       "16. 0.3\n",
       "17. &lt;NA&gt;\n",
       "18. 2\n",
       "19. 1.3\n",
       "20. 0.3\n",
       "21. 1.9\n",
       "22. 0.3\n",
       "23. &lt;NA&gt;\n",
       "24. 2\n",
       "\n",
       "\n"
      ],
      "text/plain": [
       " [1] 1.3 0.3 1.9 0.3  NA 2.0 1.3 0.3 1.9 0.3  NA 2.0 1.3 0.3 1.9 0.3  NA 2.0 1.3\n",
       "[20] 0.3 1.9 0.3  NA 2.0"
      ]
     },
     "metadata": {},
     "output_type": "display_data"
    }
   ],
   "source": [
    "data_multiple_repetitions[,c(2)]"
   ]
  },
  {
   "cell_type": "code",
   "execution_count": 116,
   "id": "7764dcf7-0d5d-42a4-b6d6-9f8d0a48a169",
   "metadata": {},
   "outputs": [
    {
     "data": {
      "text/html": [
       "<ol class=list-inline>\n",
       "\t<li>1.3</li>\n",
       "\t<li>0.3</li>\n",
       "\t<li>1.9</li>\n",
       "\t<li>0.3</li>\n",
       "\t<li>&lt;NA&gt;</li>\n",
       "\t<li>2</li>\n",
       "\t<li>1.3</li>\n",
       "\t<li>0.3</li>\n",
       "\t<li>1.9</li>\n",
       "\t<li>0.3</li>\n",
       "\t<li>&lt;NA&gt;</li>\n",
       "\t<li>2</li>\n",
       "\t<li>1.3</li>\n",
       "\t<li>0.3</li>\n",
       "\t<li>1.9</li>\n",
       "\t<li>0.3</li>\n",
       "\t<li>&lt;NA&gt;</li>\n",
       "\t<li>2</li>\n",
       "\t<li>1.3</li>\n",
       "\t<li>0.3</li>\n",
       "\t<li>1.9</li>\n",
       "\t<li>0.3</li>\n",
       "\t<li>&lt;NA&gt;</li>\n",
       "\t<li>2</li>\n",
       "</ol>\n"
      ],
      "text/latex": [
       "\\begin{enumerate*}\n",
       "\\item 1.3\n",
       "\\item 0.3\n",
       "\\item 1.9\n",
       "\\item 0.3\n",
       "\\item <NA>\n",
       "\\item 2\n",
       "\\item 1.3\n",
       "\\item 0.3\n",
       "\\item 1.9\n",
       "\\item 0.3\n",
       "\\item <NA>\n",
       "\\item 2\n",
       "\\item 1.3\n",
       "\\item 0.3\n",
       "\\item 1.9\n",
       "\\item 0.3\n",
       "\\item <NA>\n",
       "\\item 2\n",
       "\\item 1.3\n",
       "\\item 0.3\n",
       "\\item 1.9\n",
       "\\item 0.3\n",
       "\\item <NA>\n",
       "\\item 2\n",
       "\\end{enumerate*}\n"
      ],
      "text/markdown": [
       "1. 1.3\n",
       "2. 0.3\n",
       "3. 1.9\n",
       "4. 0.3\n",
       "5. &lt;NA&gt;\n",
       "6. 2\n",
       "7. 1.3\n",
       "8. 0.3\n",
       "9. 1.9\n",
       "10. 0.3\n",
       "11. &lt;NA&gt;\n",
       "12. 2\n",
       "13. 1.3\n",
       "14. 0.3\n",
       "15. 1.9\n",
       "16. 0.3\n",
       "17. &lt;NA&gt;\n",
       "18. 2\n",
       "19. 1.3\n",
       "20. 0.3\n",
       "21. 1.9\n",
       "22. 0.3\n",
       "23. &lt;NA&gt;\n",
       "24. 2\n",
       "\n",
       "\n"
      ],
      "text/plain": [
       " [1] 1.3 0.3 1.9 0.3  NA 2.0 1.3 0.3 1.9 0.3  NA 2.0 1.3 0.3 1.9 0.3  NA 2.0 1.3\n",
       "[20] 0.3 1.9 0.3  NA 2.0"
      ]
     },
     "metadata": {},
     "output_type": "display_data"
    }
   ],
   "source": [
    "data_multiple_repetitions[, c('GDP Growth')]"
   ]
  },
  {
   "cell_type": "markdown",
   "id": "bc784715-32c0-41b5-bde8-a7e4be012eae",
   "metadata": {},
   "source": [
    "### Access specific rows"
   ]
  },
  {
   "cell_type": "code",
   "execution_count": 119,
   "id": "f3a77116-917c-4d18-b056-f4e5dc2ebaac",
   "metadata": {},
   "outputs": [
    {
     "data": {
      "text/html": [
       "<table>\n",
       "<thead><tr><th></th><th scope=col>Country</th><th scope=col>GDP Growth</th><th scope=col>Market Type</th></tr></thead>\n",
       "<tbody>\n",
       "\t<tr><th scope=row>row_1</th><td>France  </td><td>1.3     </td><td>High    </td></tr>\n",
       "\t<tr><th scope=row>row_2</th><td>Germany </td><td>0.3     </td><td>High    </td></tr>\n",
       "\t<tr><th scope=row>row_3</th><td>Greece  </td><td>1.9     </td><td>Low     </td></tr>\n",
       "\t<tr><th scope=row>row_4</th><td>Italy   </td><td>0.3     </td><td>Medium  </td></tr>\n",
       "\t<tr><th scope=row>row_5</th><td>Portugal</td><td> NA     </td><td>Low     </td></tr>\n",
       "</tbody>\n",
       "</table>\n"
      ],
      "text/latex": [
       "\\begin{tabular}{r|lll}\n",
       "  & Country & GDP Growth & Market Type\\\\\n",
       "\\hline\n",
       "\trow\\_1 & France   & 1.3      & High    \\\\\n",
       "\trow\\_2 & Germany  & 0.3      & High    \\\\\n",
       "\trow\\_3 & Greece   & 1.9      & Low     \\\\\n",
       "\trow\\_4 & Italy    & 0.3      & Medium  \\\\\n",
       "\trow\\_5 & Portugal &  NA      & Low     \\\\\n",
       "\\end{tabular}\n"
      ],
      "text/markdown": [
       "\n",
       "| <!--/--> | Country | GDP Growth | Market Type |\n",
       "|---|---|---|---|\n",
       "| row_1 | France   | 1.3      | High     |\n",
       "| row_2 | Germany  | 0.3      | High     |\n",
       "| row_3 | Greece   | 1.9      | Low      |\n",
       "| row_4 | Italy    | 0.3      | Medium   |\n",
       "| row_5 | Portugal |  NA      | Low      |\n",
       "\n"
      ],
      "text/plain": [
       "      Country  GDP Growth Market Type\n",
       "row_1 France   1.3        High       \n",
       "row_2 Germany  0.3        High       \n",
       "row_3 Greece   1.9        Low        \n",
       "row_4 Italy    0.3        Medium     \n",
       "row_5 Portugal  NA        Low        "
      ]
     },
     "metadata": {},
     "output_type": "display_data"
    }
   ],
   "source": [
    "data_multiple_repetitions[c(1,2,3,4,5),]"
   ]
  },
  {
   "cell_type": "code",
   "execution_count": 121,
   "id": "65d4571c-d605-482c-97d8-31c09a3e4126",
   "metadata": {},
   "outputs": [
    {
     "data": {
      "text/html": [
       "<table>\n",
       "<thead><tr><th></th><th scope=col>Country</th><th scope=col>GDP Growth</th><th scope=col>Market Type</th></tr></thead>\n",
       "<tbody>\n",
       "\t<tr><th scope=row>row_1</th><td>France </td><td>1.3    </td><td>High   </td></tr>\n",
       "\t<tr><th scope=row>row_2</th><td>Germany</td><td>0.3    </td><td>High   </td></tr>\n",
       "\t<tr><th scope=row>row_3</th><td>Greece </td><td>1.9    </td><td>Low    </td></tr>\n",
       "</tbody>\n",
       "</table>\n"
      ],
      "text/latex": [
       "\\begin{tabular}{r|lll}\n",
       "  & Country & GDP Growth & Market Type\\\\\n",
       "\\hline\n",
       "\trow\\_1 & France  & 1.3     & High   \\\\\n",
       "\trow\\_2 & Germany & 0.3     & High   \\\\\n",
       "\trow\\_3 & Greece  & 1.9     & Low    \\\\\n",
       "\\end{tabular}\n"
      ],
      "text/markdown": [
       "\n",
       "| <!--/--> | Country | GDP Growth | Market Type |\n",
       "|---|---|---|---|\n",
       "| row_1 | France  | 1.3     | High    |\n",
       "| row_2 | Germany | 0.3     | High    |\n",
       "| row_3 | Greece  | 1.9     | Low     |\n",
       "\n"
      ],
      "text/plain": [
       "      Country GDP Growth Market Type\n",
       "row_1 France  1.3        High       \n",
       "row_2 Germany 0.3        High       \n",
       "row_3 Greece  1.9        Low        "
      ]
     },
     "metadata": {},
     "output_type": "display_data"
    }
   ],
   "source": [
    "data_multiple_repetitions[c(1,2,3), ]"
   ]
  },
  {
   "cell_type": "code",
   "execution_count": 123,
   "id": "c979a6e8-386e-42c1-8e03-b96b88dfdd60",
   "metadata": {},
   "outputs": [
    {
     "data": {
      "text/html": [
       "<table>\n",
       "<thead><tr><th></th><th scope=col>Country</th><th scope=col>GDP Growth</th></tr></thead>\n",
       "<tbody>\n",
       "\t<tr><th scope=row>row_1</th><td>France  </td><td>1.3     </td></tr>\n",
       "\t<tr><th scope=row>row_2</th><td>Germany </td><td>0.3     </td></tr>\n",
       "\t<tr><th scope=row>row_3</th><td>Greece  </td><td>1.9     </td></tr>\n",
       "\t<tr><th scope=row>row_4</th><td>Italy   </td><td>0.3     </td></tr>\n",
       "\t<tr><th scope=row>row_5</th><td>Portugal</td><td> NA     </td></tr>\n",
       "\t<tr><th scope=row>row_6</th><td>Spain   </td><td>2.0     </td></tr>\n",
       "\t<tr><th scope=row>row_7</th><td>France  </td><td>1.3     </td></tr>\n",
       "\t<tr><th scope=row>row_8</th><td>Germany </td><td>0.3     </td></tr>\n",
       "\t<tr><th scope=row>row_9</th><td>Greece  </td><td>1.9     </td></tr>\n",
       "\t<tr><th scope=row>row_10</th><td>Italy   </td><td>0.3     </td></tr>\n",
       "</tbody>\n",
       "</table>\n"
      ],
      "text/latex": [
       "\\begin{tabular}{r|ll}\n",
       "  & Country & GDP Growth\\\\\n",
       "\\hline\n",
       "\trow\\_1 & France   & 1.3     \\\\\n",
       "\trow\\_2 & Germany  & 0.3     \\\\\n",
       "\trow\\_3 & Greece   & 1.9     \\\\\n",
       "\trow\\_4 & Italy    & 0.3     \\\\\n",
       "\trow\\_5 & Portugal &  NA     \\\\\n",
       "\trow\\_6 & Spain    & 2.0     \\\\\n",
       "\trow\\_7 & France   & 1.3     \\\\\n",
       "\trow\\_8 & Germany  & 0.3     \\\\\n",
       "\trow\\_9 & Greece   & 1.9     \\\\\n",
       "\trow\\_10 & Italy    & 0.3     \\\\\n",
       "\\end{tabular}\n"
      ],
      "text/markdown": [
       "\n",
       "| <!--/--> | Country | GDP Growth |\n",
       "|---|---|---|\n",
       "| row_1 | France   | 1.3      |\n",
       "| row_2 | Germany  | 0.3      |\n",
       "| row_3 | Greece   | 1.9      |\n",
       "| row_4 | Italy    | 0.3      |\n",
       "| row_5 | Portugal |  NA      |\n",
       "| row_6 | Spain    | 2.0      |\n",
       "| row_7 | France   | 1.3      |\n",
       "| row_8 | Germany  | 0.3      |\n",
       "| row_9 | Greece   | 1.9      |\n",
       "| row_10 | Italy    | 0.3      |\n",
       "\n"
      ],
      "text/plain": [
       "       Country  GDP Growth\n",
       "row_1  France   1.3       \n",
       "row_2  Germany  0.3       \n",
       "row_3  Greece   1.9       \n",
       "row_4  Italy    0.3       \n",
       "row_5  Portugal  NA       \n",
       "row_6  Spain    2.0       \n",
       "row_7  France   1.3       \n",
       "row_8  Germany  0.3       \n",
       "row_9  Greece   1.9       \n",
       "row_10 Italy    0.3       "
      ]
     },
     "metadata": {},
     "output_type": "display_data"
    }
   ],
   "source": [
    "data_multiple_repetitions[c(1:10), c(1,2)]"
   ]
  },
  {
   "cell_type": "code",
   "execution_count": 125,
   "id": "d8a25d67-0d41-4deb-aeb7-c76e73ba4a0a",
   "metadata": {},
   "outputs": [
    {
     "data": {
      "text/html": [
       "<ol class=list-inline>\n",
       "\t<li>'France'</li>\n",
       "\t<li>'Germany'</li>\n",
       "\t<li>'Greece'</li>\n",
       "\t<li>'Italy'</li>\n",
       "\t<li>'Portugal'</li>\n",
       "</ol>\n"
      ],
      "text/latex": [
       "\\begin{enumerate*}\n",
       "\\item 'France'\n",
       "\\item 'Germany'\n",
       "\\item 'Greece'\n",
       "\\item 'Italy'\n",
       "\\item 'Portugal'\n",
       "\\end{enumerate*}\n"
      ],
      "text/markdown": [
       "1. 'France'\n",
       "2. 'Germany'\n",
       "3. 'Greece'\n",
       "4. 'Italy'\n",
       "5. 'Portugal'\n",
       "\n",
       "\n"
      ],
      "text/plain": [
       "[1] \"France\"   \"Germany\"  \"Greece\"   \"Italy\"    \"Portugal\""
      ]
     },
     "metadata": {},
     "output_type": "display_data"
    }
   ],
   "source": [
    "data_multiple_repetitions[c(1,2,3,4,5), c('Country')]"
   ]
  },
  {
   "cell_type": "markdown",
   "id": "1403b245-40f3-45a2-ba8c-e633d5b8e018",
   "metadata": {},
   "source": [
    "* We can ask R to drop a particular row by the following code"
   ]
  },
  {
   "cell_type": "code",
   "execution_count": 128,
   "id": "d841683e-9d91-42ad-818d-957551a83ad3",
   "metadata": {},
   "outputs": [
    {
     "data": {
      "text/html": [
       "<table>\n",
       "<thead><tr><th></th><th scope=col>Country</th><th scope=col>GDP Growth</th><th scope=col>Market Type</th></tr></thead>\n",
       "<tbody>\n",
       "\t<tr><th scope=row>row_1</th><td>France  </td><td>1.3     </td><td>High    </td></tr>\n",
       "\t<tr><th scope=row>row_2</th><td>Germany </td><td>0.3     </td><td>High    </td></tr>\n",
       "\t<tr><th scope=row>row_3</th><td>Greece  </td><td>1.9     </td><td>Low     </td></tr>\n",
       "\t<tr><th scope=row>row_4</th><td>Italy   </td><td>0.3     </td><td>Medium  </td></tr>\n",
       "\t<tr><th scope=row>row_5</th><td>Portugal</td><td> NA     </td><td>Low     </td></tr>\n",
       "\t<tr><th scope=row>row_6</th><td>Spain   </td><td>2.0     </td><td>Medium  </td></tr>\n",
       "\t<tr><th scope=row>row_7</th><td>France  </td><td>1.3     </td><td>High    </td></tr>\n",
       "\t<tr><th scope=row>row_8</th><td>Germany </td><td>0.3     </td><td>High    </td></tr>\n",
       "\t<tr><th scope=row>row_9</th><td>Greece  </td><td>1.9     </td><td>Low     </td></tr>\n",
       "\t<tr><th scope=row>row_10</th><td>Italy   </td><td>0.3     </td><td>Medium  </td></tr>\n",
       "\t<tr><th scope=row>row_11</th><td>Portugal</td><td> NA     </td><td>Low     </td></tr>\n",
       "\t<tr><th scope=row>row_12</th><td>Spain   </td><td>2.0     </td><td>Medium  </td></tr>\n",
       "\t<tr><th scope=row>row_13</th><td>France  </td><td>1.3     </td><td>High    </td></tr>\n",
       "\t<tr><th scope=row>row_14</th><td>Germany </td><td>0.3     </td><td>High    </td></tr>\n",
       "\t<tr><th scope=row>row_15</th><td>Greece  </td><td>1.9     </td><td>Low     </td></tr>\n",
       "\t<tr><th scope=row>row_16</th><td>Italy   </td><td>0.3     </td><td>Medium  </td></tr>\n",
       "\t<tr><th scope=row>row_17</th><td>Portugal</td><td> NA     </td><td>Low     </td></tr>\n",
       "\t<tr><th scope=row>row_18</th><td>Spain   </td><td>2.0     </td><td>Medium  </td></tr>\n",
       "\t<tr><th scope=row>row_19</th><td>France  </td><td>1.3     </td><td>High    </td></tr>\n",
       "\t<tr><th scope=row>row_20</th><td>Germany </td><td>0.3     </td><td>High    </td></tr>\n",
       "\t<tr><th scope=row>row_21</th><td>Greece  </td><td>1.9     </td><td>Low     </td></tr>\n",
       "\t<tr><th scope=row>row_22</th><td>Italy   </td><td>0.3     </td><td>Medium  </td></tr>\n",
       "\t<tr><th scope=row>row_23</th><td>Portugal</td><td> NA     </td><td>Low     </td></tr>\n",
       "\t<tr><th scope=row>row_24</th><td>Spain   </td><td>2.0     </td><td>Medium  </td></tr>\n",
       "</tbody>\n",
       "</table>\n"
      ],
      "text/latex": [
       "\\begin{tabular}{r|lll}\n",
       "  & Country & GDP Growth & Market Type\\\\\n",
       "\\hline\n",
       "\trow\\_1 & France   & 1.3      & High    \\\\\n",
       "\trow\\_2 & Germany  & 0.3      & High    \\\\\n",
       "\trow\\_3 & Greece   & 1.9      & Low     \\\\\n",
       "\trow\\_4 & Italy    & 0.3      & Medium  \\\\\n",
       "\trow\\_5 & Portugal &  NA      & Low     \\\\\n",
       "\trow\\_6 & Spain    & 2.0      & Medium  \\\\\n",
       "\trow\\_7 & France   & 1.3      & High    \\\\\n",
       "\trow\\_8 & Germany  & 0.3      & High    \\\\\n",
       "\trow\\_9 & Greece   & 1.9      & Low     \\\\\n",
       "\trow\\_10 & Italy    & 0.3      & Medium  \\\\\n",
       "\trow\\_11 & Portugal &  NA      & Low     \\\\\n",
       "\trow\\_12 & Spain    & 2.0      & Medium  \\\\\n",
       "\trow\\_13 & France   & 1.3      & High    \\\\\n",
       "\trow\\_14 & Germany  & 0.3      & High    \\\\\n",
       "\trow\\_15 & Greece   & 1.9      & Low     \\\\\n",
       "\trow\\_16 & Italy    & 0.3      & Medium  \\\\\n",
       "\trow\\_17 & Portugal &  NA      & Low     \\\\\n",
       "\trow\\_18 & Spain    & 2.0      & Medium  \\\\\n",
       "\trow\\_19 & France   & 1.3      & High    \\\\\n",
       "\trow\\_20 & Germany  & 0.3      & High    \\\\\n",
       "\trow\\_21 & Greece   & 1.9      & Low     \\\\\n",
       "\trow\\_22 & Italy    & 0.3      & Medium  \\\\\n",
       "\trow\\_23 & Portugal &  NA      & Low     \\\\\n",
       "\trow\\_24 & Spain    & 2.0      & Medium  \\\\\n",
       "\\end{tabular}\n"
      ],
      "text/markdown": [
       "\n",
       "| <!--/--> | Country | GDP Growth | Market Type |\n",
       "|---|---|---|---|\n",
       "| row_1 | France   | 1.3      | High     |\n",
       "| row_2 | Germany  | 0.3      | High     |\n",
       "| row_3 | Greece   | 1.9      | Low      |\n",
       "| row_4 | Italy    | 0.3      | Medium   |\n",
       "| row_5 | Portugal |  NA      | Low      |\n",
       "| row_6 | Spain    | 2.0      | Medium   |\n",
       "| row_7 | France   | 1.3      | High     |\n",
       "| row_8 | Germany  | 0.3      | High     |\n",
       "| row_9 | Greece   | 1.9      | Low      |\n",
       "| row_10 | Italy    | 0.3      | Medium   |\n",
       "| row_11 | Portugal |  NA      | Low      |\n",
       "| row_12 | Spain    | 2.0      | Medium   |\n",
       "| row_13 | France   | 1.3      | High     |\n",
       "| row_14 | Germany  | 0.3      | High     |\n",
       "| row_15 | Greece   | 1.9      | Low      |\n",
       "| row_16 | Italy    | 0.3      | Medium   |\n",
       "| row_17 | Portugal |  NA      | Low      |\n",
       "| row_18 | Spain    | 2.0      | Medium   |\n",
       "| row_19 | France   | 1.3      | High     |\n",
       "| row_20 | Germany  | 0.3      | High     |\n",
       "| row_21 | Greece   | 1.9      | Low      |\n",
       "| row_22 | Italy    | 0.3      | Medium   |\n",
       "| row_23 | Portugal |  NA      | Low      |\n",
       "| row_24 | Spain    | 2.0      | Medium   |\n",
       "\n"
      ],
      "text/plain": [
       "       Country  GDP Growth Market Type\n",
       "row_1  France   1.3        High       \n",
       "row_2  Germany  0.3        High       \n",
       "row_3  Greece   1.9        Low        \n",
       "row_4  Italy    0.3        Medium     \n",
       "row_5  Portugal  NA        Low        \n",
       "row_6  Spain    2.0        Medium     \n",
       "row_7  France   1.3        High       \n",
       "row_8  Germany  0.3        High       \n",
       "row_9  Greece   1.9        Low        \n",
       "row_10 Italy    0.3        Medium     \n",
       "row_11 Portugal  NA        Low        \n",
       "row_12 Spain    2.0        Medium     \n",
       "row_13 France   1.3        High       \n",
       "row_14 Germany  0.3        High       \n",
       "row_15 Greece   1.9        Low        \n",
       "row_16 Italy    0.3        Medium     \n",
       "row_17 Portugal  NA        Low        \n",
       "row_18 Spain    2.0        Medium     \n",
       "row_19 France   1.3        High       \n",
       "row_20 Germany  0.3        High       \n",
       "row_21 Greece   1.9        Low        \n",
       "row_22 Italy    0.3        Medium     \n",
       "row_23 Portugal  NA        Low        \n",
       "row_24 Spain    2.0        Medium     "
      ]
     },
     "metadata": {},
     "output_type": "display_data"
    }
   ],
   "source": [
    "data_multiple_repetitions"
   ]
  },
  {
   "cell_type": "code",
   "execution_count": 130,
   "id": "1ea00710-60c8-4323-9eea-c2f8798ca555",
   "metadata": {},
   "outputs": [
    {
     "data": {
      "text/html": [
       "<ol class=list-inline>\n",
       "\t<li>'France'</li>\n",
       "\t<li>'Germany'</li>\n",
       "\t<li>'Greece'</li>\n",
       "\t<li>'Italy'</li>\n",
       "\t<li>'Portugal'</li>\n",
       "\t<li>'France'</li>\n",
       "\t<li>'Germany'</li>\n",
       "\t<li>'Greece'</li>\n",
       "\t<li>'Italy'</li>\n",
       "\t<li>'Portugal'</li>\n",
       "\t<li>'Spain'</li>\n",
       "\t<li>'France'</li>\n",
       "\t<li>'Germany'</li>\n",
       "\t<li>'Greece'</li>\n",
       "\t<li>'Italy'</li>\n",
       "\t<li>'Portugal'</li>\n",
       "\t<li>'Spain'</li>\n",
       "\t<li>'France'</li>\n",
       "\t<li>'Germany'</li>\n",
       "\t<li>'Greece'</li>\n",
       "\t<li>'Italy'</li>\n",
       "\t<li>'Portugal'</li>\n",
       "\t<li>'Spain'</li>\n",
       "</ol>\n"
      ],
      "text/latex": [
       "\\begin{enumerate*}\n",
       "\\item 'France'\n",
       "\\item 'Germany'\n",
       "\\item 'Greece'\n",
       "\\item 'Italy'\n",
       "\\item 'Portugal'\n",
       "\\item 'France'\n",
       "\\item 'Germany'\n",
       "\\item 'Greece'\n",
       "\\item 'Italy'\n",
       "\\item 'Portugal'\n",
       "\\item 'Spain'\n",
       "\\item 'France'\n",
       "\\item 'Germany'\n",
       "\\item 'Greece'\n",
       "\\item 'Italy'\n",
       "\\item 'Portugal'\n",
       "\\item 'Spain'\n",
       "\\item 'France'\n",
       "\\item 'Germany'\n",
       "\\item 'Greece'\n",
       "\\item 'Italy'\n",
       "\\item 'Portugal'\n",
       "\\item 'Spain'\n",
       "\\end{enumerate*}\n"
      ],
      "text/markdown": [
       "1. 'France'\n",
       "2. 'Germany'\n",
       "3. 'Greece'\n",
       "4. 'Italy'\n",
       "5. 'Portugal'\n",
       "6. 'France'\n",
       "7. 'Germany'\n",
       "8. 'Greece'\n",
       "9. 'Italy'\n",
       "10. 'Portugal'\n",
       "11. 'Spain'\n",
       "12. 'France'\n",
       "13. 'Germany'\n",
       "14. 'Greece'\n",
       "15. 'Italy'\n",
       "16. 'Portugal'\n",
       "17. 'Spain'\n",
       "18. 'France'\n",
       "19. 'Germany'\n",
       "20. 'Greece'\n",
       "21. 'Italy'\n",
       "22. 'Portugal'\n",
       "23. 'Spain'\n",
       "\n",
       "\n"
      ],
      "text/plain": [
       " [1] \"France\"   \"Germany\"  \"Greece\"   \"Italy\"    \"Portugal\" \"France\"  \n",
       " [7] \"Germany\"  \"Greece\"   \"Italy\"    \"Portugal\" \"Spain\"    \"France\"  \n",
       "[13] \"Germany\"  \"Greece\"   \"Italy\"    \"Portugal\" \"Spain\"    \"France\"  \n",
       "[19] \"Germany\"  \"Greece\"   \"Italy\"    \"Portugal\" \"Spain\"   "
      ]
     },
     "metadata": {},
     "output_type": "display_data"
    }
   ],
   "source": [
    "data_multiple_repetitions[-c(6), c('Country')]"
   ]
  },
  {
   "cell_type": "markdown",
   "id": "74bbce72-911c-425b-ba49-f4ba8ad2c920",
   "metadata": {},
   "source": [
    "### Dropping specific columns and rows"
   ]
  },
  {
   "cell_type": "code",
   "execution_count": 133,
   "id": "e287d377-a594-4533-b994-0f962d7bc8f5",
   "metadata": {},
   "outputs": [],
   "source": [
    "data_multiple_repetitions$Country <- NULL"
   ]
  },
  {
   "cell_type": "code",
   "execution_count": 135,
   "id": "a6014335-6418-4360-accc-678eae9df783",
   "metadata": {},
   "outputs": [
    {
     "data": {
      "text/html": [
       "<table>\n",
       "<thead><tr><th></th><th scope=col>GDP Growth</th><th scope=col>Market Type</th></tr></thead>\n",
       "<tbody>\n",
       "\t<tr><th scope=row>row_1</th><td>1.3   </td><td>High  </td></tr>\n",
       "\t<tr><th scope=row>row_2</th><td>0.3   </td><td>High  </td></tr>\n",
       "\t<tr><th scope=row>row_3</th><td>1.9   </td><td>Low   </td></tr>\n",
       "\t<tr><th scope=row>row_4</th><td>0.3   </td><td>Medium</td></tr>\n",
       "\t<tr><th scope=row>row_5</th><td> NA   </td><td>Low   </td></tr>\n",
       "\t<tr><th scope=row>row_6</th><td>2.0   </td><td>Medium</td></tr>\n",
       "</tbody>\n",
       "</table>\n"
      ],
      "text/latex": [
       "\\begin{tabular}{r|ll}\n",
       "  & GDP Growth & Market Type\\\\\n",
       "\\hline\n",
       "\trow\\_1 & 1.3    & High  \\\\\n",
       "\trow\\_2 & 0.3    & High  \\\\\n",
       "\trow\\_3 & 1.9    & Low   \\\\\n",
       "\trow\\_4 & 0.3    & Medium\\\\\n",
       "\trow\\_5 &  NA    & Low   \\\\\n",
       "\trow\\_6 & 2.0    & Medium\\\\\n",
       "\\end{tabular}\n"
      ],
      "text/markdown": [
       "\n",
       "| <!--/--> | GDP Growth | Market Type |\n",
       "|---|---|---|\n",
       "| row_1 | 1.3    | High   |\n",
       "| row_2 | 0.3    | High   |\n",
       "| row_3 | 1.9    | Low    |\n",
       "| row_4 | 0.3    | Medium |\n",
       "| row_5 |  NA    | Low    |\n",
       "| row_6 | 2.0    | Medium |\n",
       "\n"
      ],
      "text/plain": [
       "      GDP Growth Market Type\n",
       "row_1 1.3        High       \n",
       "row_2 0.3        High       \n",
       "row_3 1.9        Low        \n",
       "row_4 0.3        Medium     \n",
       "row_5  NA        Low        \n",
       "row_6 2.0        Medium     "
      ]
     },
     "metadata": {},
     "output_type": "display_data"
    }
   ],
   "source": [
    "head(data_multiple_repetitions)"
   ]
  },
  {
   "cell_type": "code",
   "execution_count": 137,
   "id": "dd51cb29-2f5a-4118-9e3f-b113a62f3fa0",
   "metadata": {},
   "outputs": [],
   "source": [
    "data_multiple_repetitions$Country <- country"
   ]
  },
  {
   "cell_type": "code",
   "execution_count": 139,
   "id": "a8b6e15c-376a-458f-8a74-b1538837cbc9",
   "metadata": {},
   "outputs": [
    {
     "data": {
      "text/html": [
       "<table>\n",
       "<thead><tr><th></th><th scope=col>GDP Growth</th><th scope=col>Market Type</th><th scope=col>Country</th></tr></thead>\n",
       "<tbody>\n",
       "\t<tr><th scope=row>row_1</th><td>1.3     </td><td>High    </td><td>France  </td></tr>\n",
       "\t<tr><th scope=row>row_2</th><td>0.3     </td><td>High    </td><td>Germany </td></tr>\n",
       "\t<tr><th scope=row>row_3</th><td>1.9     </td><td>Low     </td><td>Greece  </td></tr>\n",
       "\t<tr><th scope=row>row_4</th><td>0.3     </td><td>Medium  </td><td>Italy   </td></tr>\n",
       "\t<tr><th scope=row>row_5</th><td> NA     </td><td>Low     </td><td>Portugal</td></tr>\n",
       "\t<tr><th scope=row>row_6</th><td>2.0     </td><td>Medium  </td><td>Spain   </td></tr>\n",
       "</tbody>\n",
       "</table>\n"
      ],
      "text/latex": [
       "\\begin{tabular}{r|lll}\n",
       "  & GDP Growth & Market Type & Country\\\\\n",
       "\\hline\n",
       "\trow\\_1 & 1.3      & High     & France  \\\\\n",
       "\trow\\_2 & 0.3      & High     & Germany \\\\\n",
       "\trow\\_3 & 1.9      & Low      & Greece  \\\\\n",
       "\trow\\_4 & 0.3      & Medium   & Italy   \\\\\n",
       "\trow\\_5 &  NA      & Low      & Portugal\\\\\n",
       "\trow\\_6 & 2.0      & Medium   & Spain   \\\\\n",
       "\\end{tabular}\n"
      ],
      "text/markdown": [
       "\n",
       "| <!--/--> | GDP Growth | Market Type | Country |\n",
       "|---|---|---|---|\n",
       "| row_1 | 1.3      | High     | France   |\n",
       "| row_2 | 0.3      | High     | Germany  |\n",
       "| row_3 | 1.9      | Low      | Greece   |\n",
       "| row_4 | 0.3      | Medium   | Italy    |\n",
       "| row_5 |  NA      | Low      | Portugal |\n",
       "| row_6 | 2.0      | Medium   | Spain    |\n",
       "\n"
      ],
      "text/plain": [
       "      GDP Growth Market Type Country \n",
       "row_1 1.3        High        France  \n",
       "row_2 0.3        High        Germany \n",
       "row_3 1.9        Low         Greece  \n",
       "row_4 0.3        Medium      Italy   \n",
       "row_5  NA        Low         Portugal\n",
       "row_6 2.0        Medium      Spain   "
      ]
     },
     "metadata": {},
     "output_type": "display_data"
    }
   ],
   "source": [
    "head(data_multiple_repetitions)"
   ]
  },
  {
   "cell_type": "markdown",
   "id": "05ace419-c2d9-420b-86c5-7d5837cb1a3c",
   "metadata": {},
   "source": [
    "#### Show all the columns except specific columns"
   ]
  },
  {
   "cell_type": "code",
   "execution_count": 142,
   "id": "41d0e9fb-a51d-47bf-8055-d5c9772bee31",
   "metadata": {},
   "outputs": [
    {
     "data": {
      "text/html": [
       "<table>\n",
       "<thead><tr><th></th><th scope=col>Market Type</th><th scope=col>Country</th></tr></thead>\n",
       "<tbody>\n",
       "\t<tr><th scope=row>row_1</th><td>High    </td><td>France  </td></tr>\n",
       "\t<tr><th scope=row>row_2</th><td>High    </td><td>Germany </td></tr>\n",
       "\t<tr><th scope=row>row_3</th><td>Low     </td><td>Greece  </td></tr>\n",
       "\t<tr><th scope=row>row_4</th><td>Medium  </td><td>Italy   </td></tr>\n",
       "\t<tr><th scope=row>row_5</th><td>Low     </td><td>Portugal</td></tr>\n",
       "\t<tr><th scope=row>row_6</th><td>Medium  </td><td>Spain   </td></tr>\n",
       "\t<tr><th scope=row>row_7</th><td>High    </td><td>France  </td></tr>\n",
       "\t<tr><th scope=row>row_8</th><td>High    </td><td>Germany </td></tr>\n",
       "\t<tr><th scope=row>row_9</th><td>Low     </td><td>Greece  </td></tr>\n",
       "\t<tr><th scope=row>row_10</th><td>Medium  </td><td>Italy   </td></tr>\n",
       "\t<tr><th scope=row>row_11</th><td>Low     </td><td>Portugal</td></tr>\n",
       "\t<tr><th scope=row>row_12</th><td>Medium  </td><td>Spain   </td></tr>\n",
       "\t<tr><th scope=row>row_13</th><td>High    </td><td>France  </td></tr>\n",
       "\t<tr><th scope=row>row_14</th><td>High    </td><td>Germany </td></tr>\n",
       "\t<tr><th scope=row>row_15</th><td>Low     </td><td>Greece  </td></tr>\n",
       "\t<tr><th scope=row>row_16</th><td>Medium  </td><td>Italy   </td></tr>\n",
       "\t<tr><th scope=row>row_17</th><td>Low     </td><td>Portugal</td></tr>\n",
       "\t<tr><th scope=row>row_18</th><td>Medium  </td><td>Spain   </td></tr>\n",
       "\t<tr><th scope=row>row_19</th><td>High    </td><td>France  </td></tr>\n",
       "\t<tr><th scope=row>row_20</th><td>High    </td><td>Germany </td></tr>\n",
       "\t<tr><th scope=row>row_21</th><td>Low     </td><td>Greece  </td></tr>\n",
       "\t<tr><th scope=row>row_22</th><td>Medium  </td><td>Italy   </td></tr>\n",
       "\t<tr><th scope=row>row_23</th><td>Low     </td><td>Portugal</td></tr>\n",
       "\t<tr><th scope=row>row_24</th><td>Medium  </td><td>Spain   </td></tr>\n",
       "</tbody>\n",
       "</table>\n"
      ],
      "text/latex": [
       "\\begin{tabular}{r|ll}\n",
       "  & Market Type & Country\\\\\n",
       "\\hline\n",
       "\trow\\_1 & High     & France  \\\\\n",
       "\trow\\_2 & High     & Germany \\\\\n",
       "\trow\\_3 & Low      & Greece  \\\\\n",
       "\trow\\_4 & Medium   & Italy   \\\\\n",
       "\trow\\_5 & Low      & Portugal\\\\\n",
       "\trow\\_6 & Medium   & Spain   \\\\\n",
       "\trow\\_7 & High     & France  \\\\\n",
       "\trow\\_8 & High     & Germany \\\\\n",
       "\trow\\_9 & Low      & Greece  \\\\\n",
       "\trow\\_10 & Medium   & Italy   \\\\\n",
       "\trow\\_11 & Low      & Portugal\\\\\n",
       "\trow\\_12 & Medium   & Spain   \\\\\n",
       "\trow\\_13 & High     & France  \\\\\n",
       "\trow\\_14 & High     & Germany \\\\\n",
       "\trow\\_15 & Low      & Greece  \\\\\n",
       "\trow\\_16 & Medium   & Italy   \\\\\n",
       "\trow\\_17 & Low      & Portugal\\\\\n",
       "\trow\\_18 & Medium   & Spain   \\\\\n",
       "\trow\\_19 & High     & France  \\\\\n",
       "\trow\\_20 & High     & Germany \\\\\n",
       "\trow\\_21 & Low      & Greece  \\\\\n",
       "\trow\\_22 & Medium   & Italy   \\\\\n",
       "\trow\\_23 & Low      & Portugal\\\\\n",
       "\trow\\_24 & Medium   & Spain   \\\\\n",
       "\\end{tabular}\n"
      ],
      "text/markdown": [
       "\n",
       "| <!--/--> | Market Type | Country |\n",
       "|---|---|---|\n",
       "| row_1 | High     | France   |\n",
       "| row_2 | High     | Germany  |\n",
       "| row_3 | Low      | Greece   |\n",
       "| row_4 | Medium   | Italy    |\n",
       "| row_5 | Low      | Portugal |\n",
       "| row_6 | Medium   | Spain    |\n",
       "| row_7 | High     | France   |\n",
       "| row_8 | High     | Germany  |\n",
       "| row_9 | Low      | Greece   |\n",
       "| row_10 | Medium   | Italy    |\n",
       "| row_11 | Low      | Portugal |\n",
       "| row_12 | Medium   | Spain    |\n",
       "| row_13 | High     | France   |\n",
       "| row_14 | High     | Germany  |\n",
       "| row_15 | Low      | Greece   |\n",
       "| row_16 | Medium   | Italy    |\n",
       "| row_17 | Low      | Portugal |\n",
       "| row_18 | Medium   | Spain    |\n",
       "| row_19 | High     | France   |\n",
       "| row_20 | High     | Germany  |\n",
       "| row_21 | Low      | Greece   |\n",
       "| row_22 | Medium   | Italy    |\n",
       "| row_23 | Low      | Portugal |\n",
       "| row_24 | Medium   | Spain    |\n",
       "\n"
      ],
      "text/plain": [
       "       Market Type Country \n",
       "row_1  High        France  \n",
       "row_2  High        Germany \n",
       "row_3  Low         Greece  \n",
       "row_4  Medium      Italy   \n",
       "row_5  Low         Portugal\n",
       "row_6  Medium      Spain   \n",
       "row_7  High        France  \n",
       "row_8  High        Germany \n",
       "row_9  Low         Greece  \n",
       "row_10 Medium      Italy   \n",
       "row_11 Low         Portugal\n",
       "row_12 Medium      Spain   \n",
       "row_13 High        France  \n",
       "row_14 High        Germany \n",
       "row_15 Low         Greece  \n",
       "row_16 Medium      Italy   \n",
       "row_17 Low         Portugal\n",
       "row_18 Medium      Spain   \n",
       "row_19 High        France  \n",
       "row_20 High        Germany \n",
       "row_21 Low         Greece  \n",
       "row_22 Medium      Italy   \n",
       "row_23 Low         Portugal\n",
       "row_24 Medium      Spain   "
      ]
     },
     "metadata": {},
     "output_type": "display_data"
    }
   ],
   "source": [
    "data_multiple_repetitions[, -1]"
   ]
  },
  {
   "cell_type": "code",
   "execution_count": 144,
   "id": "b8504571-1573-4268-bcae-34819db0a17a",
   "metadata": {},
   "outputs": [
    {
     "data": {
      "text/html": [
       "<ol class=list-inline>\n",
       "\t<li>'France'</li>\n",
       "\t<li>'Germany'</li>\n",
       "\t<li>'Greece'</li>\n",
       "\t<li>'Italy'</li>\n",
       "\t<li>'Portugal'</li>\n",
       "\t<li>'Spain'</li>\n",
       "\t<li>'France'</li>\n",
       "\t<li>'Germany'</li>\n",
       "\t<li>'Greece'</li>\n",
       "\t<li>'Italy'</li>\n",
       "\t<li>'Portugal'</li>\n",
       "\t<li>'Spain'</li>\n",
       "\t<li>'France'</li>\n",
       "\t<li>'Germany'</li>\n",
       "\t<li>'Greece'</li>\n",
       "\t<li>'Italy'</li>\n",
       "\t<li>'Portugal'</li>\n",
       "\t<li>'Spain'</li>\n",
       "\t<li>'France'</li>\n",
       "\t<li>'Germany'</li>\n",
       "\t<li>'Greece'</li>\n",
       "\t<li>'Italy'</li>\n",
       "\t<li>'Portugal'</li>\n",
       "\t<li>'Spain'</li>\n",
       "</ol>\n"
      ],
      "text/latex": [
       "\\begin{enumerate*}\n",
       "\\item 'France'\n",
       "\\item 'Germany'\n",
       "\\item 'Greece'\n",
       "\\item 'Italy'\n",
       "\\item 'Portugal'\n",
       "\\item 'Spain'\n",
       "\\item 'France'\n",
       "\\item 'Germany'\n",
       "\\item 'Greece'\n",
       "\\item 'Italy'\n",
       "\\item 'Portugal'\n",
       "\\item 'Spain'\n",
       "\\item 'France'\n",
       "\\item 'Germany'\n",
       "\\item 'Greece'\n",
       "\\item 'Italy'\n",
       "\\item 'Portugal'\n",
       "\\item 'Spain'\n",
       "\\item 'France'\n",
       "\\item 'Germany'\n",
       "\\item 'Greece'\n",
       "\\item 'Italy'\n",
       "\\item 'Portugal'\n",
       "\\item 'Spain'\n",
       "\\end{enumerate*}\n"
      ],
      "text/markdown": [
       "1. 'France'\n",
       "2. 'Germany'\n",
       "3. 'Greece'\n",
       "4. 'Italy'\n",
       "5. 'Portugal'\n",
       "6. 'Spain'\n",
       "7. 'France'\n",
       "8. 'Germany'\n",
       "9. 'Greece'\n",
       "10. 'Italy'\n",
       "11. 'Portugal'\n",
       "12. 'Spain'\n",
       "13. 'France'\n",
       "14. 'Germany'\n",
       "15. 'Greece'\n",
       "16. 'Italy'\n",
       "17. 'Portugal'\n",
       "18. 'Spain'\n",
       "19. 'France'\n",
       "20. 'Germany'\n",
       "21. 'Greece'\n",
       "22. 'Italy'\n",
       "23. 'Portugal'\n",
       "24. 'Spain'\n",
       "\n",
       "\n"
      ],
      "text/plain": [
       " [1] \"France\"   \"Germany\"  \"Greece\"   \"Italy\"    \"Portugal\" \"Spain\"   \n",
       " [7] \"France\"   \"Germany\"  \"Greece\"   \"Italy\"    \"Portugal\" \"Spain\"   \n",
       "[13] \"France\"   \"Germany\"  \"Greece\"   \"Italy\"    \"Portugal\" \"Spain\"   \n",
       "[19] \"France\"   \"Germany\"  \"Greece\"   \"Italy\"    \"Portugal\" \"Spain\"   "
      ]
     },
     "metadata": {},
     "output_type": "display_data"
    }
   ],
   "source": [
    "data_multiple_repetitions[, -c(1,2)]"
   ]
  },
  {
   "cell_type": "markdown",
   "id": "7da0132d-0449-4d55-b8bd-5215bcc096fd",
   "metadata": {},
   "source": [
    "### Attributes and comments\n",
    "- We can add attributes of the dataframe as metadata"
   ]
  },
  {
   "cell_type": "markdown",
   "id": "0124f1d8-d1e3-42ac-95de-977071b7728a",
   "metadata": {},
   "source": [
    "#### Attributes of dataframe"
   ]
  },
  {
   "cell_type": "code",
   "execution_count": 148,
   "id": "af2f64c5-aa26-40de-9dd4-6a5f6a141935",
   "metadata": {},
   "outputs": [
    {
     "data": {
      "text/html": [
       "<table>\n",
       "<thead><tr><th scope=col>country</th><th scope=col>gdp_growth</th><th scope=col>mkt_type</th></tr></thead>\n",
       "<tbody>\n",
       "\t<tr><td>France  </td><td>1.3     </td><td>High    </td></tr>\n",
       "\t<tr><td>Germany </td><td>0.3     </td><td>High    </td></tr>\n",
       "\t<tr><td>Greece  </td><td>1.9     </td><td>Low     </td></tr>\n",
       "\t<tr><td>Italy   </td><td>0.3     </td><td>Medium  </td></tr>\n",
       "\t<tr><td>Portugal</td><td> NA     </td><td>Low     </td></tr>\n",
       "\t<tr><td>Spain   </td><td>2.0     </td><td>Medium  </td></tr>\n",
       "</tbody>\n",
       "</table>\n"
      ],
      "text/latex": [
       "\\begin{tabular}{r|lll}\n",
       " country & gdp\\_growth & mkt\\_type\\\\\n",
       "\\hline\n",
       "\t France   & 1.3      & High    \\\\\n",
       "\t Germany  & 0.3      & High    \\\\\n",
       "\t Greece   & 1.9      & Low     \\\\\n",
       "\t Italy    & 0.3      & Medium  \\\\\n",
       "\t Portugal &  NA      & Low     \\\\\n",
       "\t Spain    & 2.0      & Medium  \\\\\n",
       "\\end{tabular}\n"
      ],
      "text/markdown": [
       "\n",
       "| country | gdp_growth | mkt_type |\n",
       "|---|---|---|\n",
       "| France   | 1.3      | High     |\n",
       "| Germany  | 0.3      | High     |\n",
       "| Greece   | 1.9      | Low      |\n",
       "| Italy    | 0.3      | Medium   |\n",
       "| Portugal |  NA      | Low      |\n",
       "| Spain    | 2.0      | Medium   |\n",
       "\n"
      ],
      "text/plain": [
       "  country  gdp_growth mkt_type\n",
       "1 France   1.3        High    \n",
       "2 Germany  0.3        High    \n",
       "3 Greece   1.9        Low     \n",
       "4 Italy    0.3        Medium  \n",
       "5 Portugal  NA        Low     \n",
       "6 Spain    2.0        Medium  "
      ]
     },
     "metadata": {},
     "output_type": "display_data"
    }
   ],
   "source": [
    "data"
   ]
  },
  {
   "cell_type": "code",
   "execution_count": 150,
   "id": "f3c8c3f2-679f-4e82-acf8-b8c3c80ad847",
   "metadata": {},
   "outputs": [
    {
     "name": "stdout",
     "output_type": "stream",
     "text": [
      "$names\n",
      "[1] \"country\"    \"gdp_growth\" \"mkt_type\"  \n",
      "\n",
      "$class\n",
      "[1] \"data.frame\"\n",
      "\n",
      "$row.names\n",
      "[1] 1 2 3 4 5 6\n",
      "\n"
     ]
    }
   ],
   "source": [
    "print(attributes(data))"
   ]
  },
  {
   "cell_type": "markdown",
   "id": "6390128c-6a68-4014-8661-362a78f4ee27",
   "metadata": {},
   "source": [
    "#### Creating attribute"
   ]
  },
  {
   "cell_type": "code",
   "execution_count": 153,
   "id": "1120c109-437b-49fc-b565-4da0197af992",
   "metadata": {},
   "outputs": [],
   "source": [
    "attr(data, 'source') = 'manmade'"
   ]
  },
  {
   "cell_type": "code",
   "execution_count": 155,
   "id": "63340eae-7573-4afc-bf0e-cdf242a81a43",
   "metadata": {},
   "outputs": [
    {
     "data": {
      "text/html": [
       "<dl>\n",
       "\t<dt>$names</dt>\n",
       "\t\t<dd><ol class=list-inline>\n",
       "\t<li>'country'</li>\n",
       "\t<li>'gdp_growth'</li>\n",
       "\t<li>'mkt_type'</li>\n",
       "</ol>\n",
       "</dd>\n",
       "\t<dt>$class</dt>\n",
       "\t\t<dd>'data.frame'</dd>\n",
       "\t<dt>$row.names</dt>\n",
       "\t\t<dd><ol class=list-inline>\n",
       "\t<li>1</li>\n",
       "\t<li>2</li>\n",
       "\t<li>3</li>\n",
       "\t<li>4</li>\n",
       "\t<li>5</li>\n",
       "\t<li>6</li>\n",
       "</ol>\n",
       "</dd>\n",
       "\t<dt>$source</dt>\n",
       "\t\t<dd>'manmade'</dd>\n",
       "</dl>\n"
      ],
      "text/latex": [
       "\\begin{description}\n",
       "\\item[\\$names] \\begin{enumerate*}\n",
       "\\item 'country'\n",
       "\\item 'gdp\\_growth'\n",
       "\\item 'mkt\\_type'\n",
       "\\end{enumerate*}\n",
       "\n",
       "\\item[\\$class] 'data.frame'\n",
       "\\item[\\$row.names] \\begin{enumerate*}\n",
       "\\item 1\n",
       "\\item 2\n",
       "\\item 3\n",
       "\\item 4\n",
       "\\item 5\n",
       "\\item 6\n",
       "\\end{enumerate*}\n",
       "\n",
       "\\item[\\$source] 'manmade'\n",
       "\\end{description}\n"
      ],
      "text/markdown": [
       "$names\n",
       ":   1. 'country'\n",
       "2. 'gdp_growth'\n",
       "3. 'mkt_type'\n",
       "\n",
       "\n",
       "\n",
       "$class\n",
       ":   'data.frame'\n",
       "$row.names\n",
       ":   1. 1\n",
       "2. 2\n",
       "3. 3\n",
       "4. 4\n",
       "5. 5\n",
       "6. 6\n",
       "\n",
       "\n",
       "\n",
       "$source\n",
       ":   'manmade'\n",
       "\n",
       "\n"
      ],
      "text/plain": [
       "$names\n",
       "[1] \"country\"    \"gdp_growth\" \"mkt_type\"  \n",
       "\n",
       "$class\n",
       "[1] \"data.frame\"\n",
       "\n",
       "$row.names\n",
       "[1] 1 2 3 4 5 6\n",
       "\n",
       "$source\n",
       "[1] \"manmade\"\n"
      ]
     },
     "metadata": {},
     "output_type": "display_data"
    }
   ],
   "source": [
    "attributes(data)"
   ]
  },
  {
   "cell_type": "code",
   "execution_count": 157,
   "id": "a1cb6122-9d26-432b-8420-136c7927b9dd",
   "metadata": {},
   "outputs": [
    {
     "data": {
      "text/html": [
       "<table>\n",
       "<thead><tr><th scope=col>country</th><th scope=col>gdp_growth</th><th scope=col>mkt_type</th></tr></thead>\n",
       "<tbody>\n",
       "\t<tr><td>France  </td><td>1.3     </td><td>High    </td></tr>\n",
       "\t<tr><td>Germany </td><td>0.3     </td><td>High    </td></tr>\n",
       "\t<tr><td>Greece  </td><td>1.9     </td><td>Low     </td></tr>\n",
       "\t<tr><td>Italy   </td><td>0.3     </td><td>Medium  </td></tr>\n",
       "\t<tr><td>Portugal</td><td> NA     </td><td>Low     </td></tr>\n",
       "\t<tr><td>Spain   </td><td>2.0     </td><td>Medium  </td></tr>\n",
       "</tbody>\n",
       "</table>\n"
      ],
      "text/latex": [
       "\\begin{tabular}{r|lll}\n",
       " country & gdp\\_growth & mkt\\_type\\\\\n",
       "\\hline\n",
       "\t France   & 1.3      & High    \\\\\n",
       "\t Germany  & 0.3      & High    \\\\\n",
       "\t Greece   & 1.9      & Low     \\\\\n",
       "\t Italy    & 0.3      & Medium  \\\\\n",
       "\t Portugal &  NA      & Low     \\\\\n",
       "\t Spain    & 2.0      & Medium  \\\\\n",
       "\\end{tabular}\n"
      ],
      "text/markdown": [
       "\n",
       "| country | gdp_growth | mkt_type |\n",
       "|---|---|---|\n",
       "| France   | 1.3      | High     |\n",
       "| Germany  | 0.3      | High     |\n",
       "| Greece   | 1.9      | Low      |\n",
       "| Italy    | 0.3      | Medium   |\n",
       "| Portugal |  NA      | Low      |\n",
       "| Spain    | 2.0      | Medium   |\n",
       "\n"
      ],
      "text/plain": [
       "  country  gdp_growth mkt_type\n",
       "1 France   1.3        High    \n",
       "2 Germany  0.3        High    \n",
       "3 Greece   1.9        Low     \n",
       "4 Italy    0.3        Medium  \n",
       "5 Portugal  NA        Low     \n",
       "6 Spain    2.0        Medium  "
      ]
     },
     "metadata": {},
     "output_type": "display_data"
    }
   ],
   "source": [
    "data"
   ]
  },
  {
   "cell_type": "markdown",
   "id": "80bced1a-a1e0-4eca-a65c-125d9c2e7b77",
   "metadata": {},
   "source": [
    "#### Accessing specific attributes"
   ]
  },
  {
   "cell_type": "code",
   "execution_count": 160,
   "id": "5c59f142-1273-4a41-86f1-2a6e8214e306",
   "metadata": {},
   "outputs": [
    {
     "data": {
      "text/html": [
       "'manmade'"
      ],
      "text/latex": [
       "'manmade'"
      ],
      "text/markdown": [
       "'manmade'"
      ],
      "text/plain": [
       "[1] \"manmade\""
      ]
     },
     "metadata": {},
     "output_type": "display_data"
    }
   ],
   "source": [
    "attr(data, 'source')"
   ]
  },
  {
   "cell_type": "code",
   "execution_count": 162,
   "id": "3e29b601-3641-4d60-951f-ec9e7b5a573c",
   "metadata": {},
   "outputs": [
    {
     "data": {
      "text/html": [
       "<table>\n",
       "<thead><tr><th scope=col>country</th><th scope=col>gdp_growth</th><th scope=col>mkt_type</th></tr></thead>\n",
       "<tbody>\n",
       "\t<tr><td>France  </td><td>1.3     </td><td>High    </td></tr>\n",
       "\t<tr><td>Germany </td><td>0.3     </td><td>High    </td></tr>\n",
       "\t<tr><td>Greece  </td><td>1.9     </td><td>Low     </td></tr>\n",
       "\t<tr><td>Italy   </td><td>0.3     </td><td>Medium  </td></tr>\n",
       "\t<tr><td>Portugal</td><td> NA     </td><td>Low     </td></tr>\n",
       "\t<tr><td>Spain   </td><td>2.0     </td><td>Medium  </td></tr>\n",
       "</tbody>\n",
       "</table>\n"
      ],
      "text/latex": [
       "\\begin{tabular}{r|lll}\n",
       " country & gdp\\_growth & mkt\\_type\\\\\n",
       "\\hline\n",
       "\t France   & 1.3      & High    \\\\\n",
       "\t Germany  & 0.3      & High    \\\\\n",
       "\t Greece   & 1.9      & Low     \\\\\n",
       "\t Italy    & 0.3      & Medium  \\\\\n",
       "\t Portugal &  NA      & Low     \\\\\n",
       "\t Spain    & 2.0      & Medium  \\\\\n",
       "\\end{tabular}\n"
      ],
      "text/markdown": [
       "\n",
       "| country | gdp_growth | mkt_type |\n",
       "|---|---|---|\n",
       "| France   | 1.3      | High     |\n",
       "| Germany  | 0.3      | High     |\n",
       "| Greece   | 1.9      | Low      |\n",
       "| Italy    | 0.3      | Medium   |\n",
       "| Portugal |  NA      | Low      |\n",
       "| Spain    | 2.0      | Medium   |\n",
       "\n"
      ],
      "text/plain": [
       "  country  gdp_growth mkt_type\n",
       "1 France   1.3        High    \n",
       "2 Germany  0.3        High    \n",
       "3 Greece   1.9        Low     \n",
       "4 Italy    0.3        Medium  \n",
       "5 Portugal  NA        Low     \n",
       "6 Spain    2.0        Medium  "
      ]
     },
     "metadata": {},
     "output_type": "display_data"
    }
   ],
   "source": [
    "data"
   ]
  },
  {
   "cell_type": "markdown",
   "id": "1dcc42e4-e3ae-41b0-9ae5-cc8dc39454b2",
   "metadata": {},
   "source": [
    "### Storing comments"
   ]
  },
  {
   "cell_type": "code",
   "execution_count": 165,
   "id": "573bc86f-f01b-43a3-9114-4c68318d6375",
   "metadata": {},
   "outputs": [
    {
     "data": {
      "text/plain": [
       "NULL"
      ]
     },
     "metadata": {},
     "output_type": "display_data"
    }
   ],
   "source": [
    "comment(data)"
   ]
  },
  {
   "cell_type": "code",
   "execution_count": 167,
   "id": "19e92728-aff5-4d64-8e0d-07a54cfb576d",
   "metadata": {},
   "outputs": [],
   "source": [
    "comment(data) <- 'Sample dataframe by me'"
   ]
  },
  {
   "cell_type": "code",
   "execution_count": 169,
   "id": "11d7a79d-75b5-48fe-a06b-645490f9f09d",
   "metadata": {},
   "outputs": [
    {
     "data": {
      "text/html": [
       "'Sample dataframe by me'"
      ],
      "text/latex": [
       "'Sample dataframe by me'"
      ],
      "text/markdown": [
       "'Sample dataframe by me'"
      ],
      "text/plain": [
       "[1] \"Sample dataframe by me\""
      ]
     },
     "metadata": {},
     "output_type": "display_data"
    }
   ],
   "source": [
    "comment(data)"
   ]
  },
  {
   "cell_type": "code",
   "execution_count": 171,
   "id": "a33814d3-74e8-4f23-a11e-5a0630f8dbd2",
   "metadata": {},
   "outputs": [
    {
     "data": {
      "text/html": [
       "<dl>\n",
       "\t<dt>$names</dt>\n",
       "\t\t<dd><ol class=list-inline>\n",
       "\t<li>'country'</li>\n",
       "\t<li>'gdp_growth'</li>\n",
       "\t<li>'mkt_type'</li>\n",
       "</ol>\n",
       "</dd>\n",
       "\t<dt>$class</dt>\n",
       "\t\t<dd>'data.frame'</dd>\n",
       "\t<dt>$row.names</dt>\n",
       "\t\t<dd><ol class=list-inline>\n",
       "\t<li>1</li>\n",
       "\t<li>2</li>\n",
       "\t<li>3</li>\n",
       "\t<li>4</li>\n",
       "\t<li>5</li>\n",
       "\t<li>6</li>\n",
       "</ol>\n",
       "</dd>\n",
       "\t<dt>$source</dt>\n",
       "\t\t<dd>'manmade'</dd>\n",
       "\t<dt>$comment</dt>\n",
       "\t\t<dd>'Sample dataframe by me'</dd>\n",
       "</dl>\n"
      ],
      "text/latex": [
       "\\begin{description}\n",
       "\\item[\\$names] \\begin{enumerate*}\n",
       "\\item 'country'\n",
       "\\item 'gdp\\_growth'\n",
       "\\item 'mkt\\_type'\n",
       "\\end{enumerate*}\n",
       "\n",
       "\\item[\\$class] 'data.frame'\n",
       "\\item[\\$row.names] \\begin{enumerate*}\n",
       "\\item 1\n",
       "\\item 2\n",
       "\\item 3\n",
       "\\item 4\n",
       "\\item 5\n",
       "\\item 6\n",
       "\\end{enumerate*}\n",
       "\n",
       "\\item[\\$source] 'manmade'\n",
       "\\item[\\$comment] 'Sample dataframe by me'\n",
       "\\end{description}\n"
      ],
      "text/markdown": [
       "$names\n",
       ":   1. 'country'\n",
       "2. 'gdp_growth'\n",
       "3. 'mkt_type'\n",
       "\n",
       "\n",
       "\n",
       "$class\n",
       ":   'data.frame'\n",
       "$row.names\n",
       ":   1. 1\n",
       "2. 2\n",
       "3. 3\n",
       "4. 4\n",
       "5. 5\n",
       "6. 6\n",
       "\n",
       "\n",
       "\n",
       "$source\n",
       ":   'manmade'\n",
       "$comment\n",
       ":   'Sample dataframe by me'\n",
       "\n",
       "\n"
      ],
      "text/plain": [
       "$names\n",
       "[1] \"country\"    \"gdp_growth\" \"mkt_type\"  \n",
       "\n",
       "$class\n",
       "[1] \"data.frame\"\n",
       "\n",
       "$row.names\n",
       "[1] 1 2 3 4 5 6\n",
       "\n",
       "$source\n",
       "[1] \"manmade\"\n",
       "\n",
       "$comment\n",
       "[1] \"Sample dataframe by me\"\n"
      ]
     },
     "metadata": {},
     "output_type": "display_data"
    }
   ],
   "source": [
    "attributes(data)"
   ]
  },
  {
   "cell_type": "code",
   "execution_count": 173,
   "id": "c8851886-7011-4cf1-a2a5-9487b775fdfa",
   "metadata": {},
   "outputs": [
    {
     "name": "stdout",
     "output_type": "stream",
     "text": [
      "'data.frame':\t6 obs. of  3 variables:\n",
      " $ country   : chr  \"France\" \"Germany\" \"Greece\" \"Italy\" ...\n",
      " $ gdp_growth: num  1.3 0.3 1.9 0.3 NA 2\n",
      " $ mkt_type  : Factor w/ 3 levels \"High\",\"Low\",\"Medium\": 1 1 2 3 2 3\n",
      " - attr(*, \"source\")= chr \"manmade\"\n",
      " - attr(*, \"comment\")= chr \"Sample dataframe by me\"\n"
     ]
    }
   ],
   "source": [
    "str(data)"
   ]
  },
  {
   "cell_type": "markdown",
   "id": "b738fa56-6e84-4760-afff-094e45a3d975",
   "metadata": {},
   "source": [
    "* Comments are used rarely."
   ]
  },
  {
   "cell_type": "markdown",
   "id": "7c3b0bef-ab2a-42fd-919c-1448160b9ed3",
   "metadata": {},
   "source": [
    "### Saving dataframe to a disk"
   ]
  },
  {
   "cell_type": "markdown",
   "id": "2c4bf762-b3ef-4294-9ccb-95fec7d4384d",
   "metadata": {},
   "source": [
    "#### Export without row names"
   ]
  },
  {
   "cell_type": "code",
   "execution_count": 178,
   "id": "3682de6e-500a-4eb0-b2f8-d76bf9e9b59d",
   "metadata": {},
   "outputs": [],
   "source": [
    "write.csv(data, \"Small_data.csv\", row.names = F)"
   ]
  },
  {
   "cell_type": "markdown",
   "id": "0f088236-3bbc-4ba6-b926-d4fab914ea37",
   "metadata": {},
   "source": [
    "### Importing data from other file formats\n",
    "* Use the library \"haven\" for reading SAS(.sas), SPSS(.sav, .por) and stata(.dta) files\n",
    "* Use the library \"xlsx\" for reading excel files"
   ]
  },
  {
   "cell_type": "markdown",
   "id": "50a1b962-0cd7-469d-b77f-332ef5af763b",
   "metadata": {},
   "source": [
    "### R datasets, packages and public datasets"
   ]
  },
  {
   "cell_type": "markdown",
   "id": "db78eb44-c0ff-4c49-8644-781d1629a7fa",
   "metadata": {},
   "source": [
    "#### library(help = 'datasets')"
   ]
  },
  {
   "cell_type": "code",
   "execution_count": 183,
   "id": "f91c5607-66f6-434d-87d7-bb4be2acd378",
   "metadata": {},
   "outputs": [
    {
     "data": {
      "text/html": [
       "\n",
       "<table width=\"100%\" summary=\"page for mtcars {datasets}\"><tr><td>mtcars {datasets}</td><td style=\"text-align: right;\">R Documentation</td></tr></table>\n",
       "\n",
       "<h2>Motor Trend Car Road Tests</h2>\n",
       "\n",
       "<h3>Description</h3>\n",
       "\n",
       "<p>The data was extracted from the 1974 <em>Motor Trend</em> US magazine,\n",
       "and comprises fuel consumption and 10 aspects of\n",
       "automobile design and performance for 32 automobiles (1973&ndash;74\n",
       "models).\n",
       "</p>\n",
       "\n",
       "\n",
       "<h3>Usage</h3>\n",
       "\n",
       "<pre>mtcars</pre>\n",
       "\n",
       "\n",
       "<h3>Format</h3>\n",
       "\n",
       "<p>A data frame with 32 observations on 11 (numeric) variables.\n",
       "</p>\n",
       "\n",
       "<table summary=\"Rd table\">\n",
       "<tr>\n",
       " <td style=\"text-align: right;\">\n",
       "    [, 1] </td><td style=\"text-align: left;\"> mpg  </td><td style=\"text-align: left;\"> Miles/(US) gallon </td>\n",
       "</tr>\n",
       "<tr>\n",
       " <td style=\"text-align: right;\">\n",
       "    [, 2] </td><td style=\"text-align: left;\"> cyl  </td><td style=\"text-align: left;\"> Number of cylinders </td>\n",
       "</tr>\n",
       "<tr>\n",
       " <td style=\"text-align: right;\">\n",
       "    [, 3] </td><td style=\"text-align: left;\"> disp </td><td style=\"text-align: left;\"> Displacement (cu.in.) </td>\n",
       "</tr>\n",
       "<tr>\n",
       " <td style=\"text-align: right;\">\n",
       "    [, 4] </td><td style=\"text-align: left;\"> hp   </td><td style=\"text-align: left;\"> Gross horsepower </td>\n",
       "</tr>\n",
       "<tr>\n",
       " <td style=\"text-align: right;\">\n",
       "    [, 5] </td><td style=\"text-align: left;\"> drat </td><td style=\"text-align: left;\"> Rear axle ratio </td>\n",
       "</tr>\n",
       "<tr>\n",
       " <td style=\"text-align: right;\">\n",
       "    [, 6] </td><td style=\"text-align: left;\"> wt   </td><td style=\"text-align: left;\"> Weight (1000 lbs) </td>\n",
       "</tr>\n",
       "<tr>\n",
       " <td style=\"text-align: right;\">\n",
       "    [, 7] </td><td style=\"text-align: left;\"> qsec </td><td style=\"text-align: left;\"> 1/4 mile time </td>\n",
       "</tr>\n",
       "<tr>\n",
       " <td style=\"text-align: right;\">\n",
       "    [, 8] </td><td style=\"text-align: left;\"> vs   </td><td style=\"text-align: left;\"> Engine (0 = V-shaped, 1 = straight) </td>\n",
       "</tr>\n",
       "<tr>\n",
       " <td style=\"text-align: right;\">\n",
       "    [, 9] </td><td style=\"text-align: left;\"> am   </td><td style=\"text-align: left;\"> Transmission (0 = automatic, 1 = manual) </td>\n",
       "</tr>\n",
       "<tr>\n",
       " <td style=\"text-align: right;\">\n",
       "    [,10] </td><td style=\"text-align: left;\"> gear </td><td style=\"text-align: left;\"> Number of forward gears </td>\n",
       "</tr>\n",
       "<tr>\n",
       " <td style=\"text-align: right;\">\n",
       "    [,11] </td><td style=\"text-align: left;\"> carb </td><td style=\"text-align: left;\"> Number of carburetors\n",
       "  </td>\n",
       "</tr>\n",
       "\n",
       "</table>\n",
       "\n",
       "\n",
       "\n",
       "<h3>Note</h3>\n",
       "\n",
       "<p>Henderson and Velleman (1981) comment in a footnote to Table 1:\n",
       "&lsquo;Hocking [original transcriber]'s noncrucial coding of the\n",
       "Mazda's rotary engine as a straight six-cylinder engine and the\n",
       "Porsche's flat engine as a V engine, as well as the inclusion of the\n",
       "diesel Mercedes 240D, have been retained to enable direct comparisons\n",
       "to be made with previous analyses.&rsquo;\n",
       "</p>\n",
       "\n",
       "\n",
       "<h3>Source</h3>\n",
       "\n",
       "<p>Henderson and Velleman (1981),\n",
       "Building multiple regression models interactively.\n",
       "<em>Biometrics</em>, <b>37</b>, 391&ndash;411.\n",
       "</p>\n",
       "\n",
       "\n",
       "<h3>Examples</h3>\n",
       "\n",
       "<pre>\n",
       "require(graphics)\n",
       "pairs(mtcars, main = \"mtcars data\", gap = 1/4)\n",
       "coplot(mpg ~ disp | as.factor(cyl), data = mtcars,\n",
       "       panel = panel.smooth, rows = 1)\n",
       "## possibly more meaningful, e.g., for summary() or bivariate plots:\n",
       "mtcars2 &lt;- within(mtcars, {\n",
       "   vs &lt;- factor(vs, labels = c(\"V\", \"S\"))\n",
       "   am &lt;- factor(am, labels = c(\"automatic\", \"manual\"))\n",
       "   cyl  &lt;- ordered(cyl)\n",
       "   gear &lt;- ordered(gear)\n",
       "   carb &lt;- ordered(carb)\n",
       "})\n",
       "summary(mtcars2)\n",
       "</pre>\n",
       "\n",
       "<hr /><div style=\"text-align: center;\">[Package <em>datasets</em> version 3.6.1 ]</div>"
      ],
      "text/latex": [
       "\\inputencoding{utf8}\n",
       "\\HeaderA{mtcars}{Motor Trend Car Road Tests}{mtcars}\n",
       "\\keyword{datasets}{mtcars}\n",
       "%\n",
       "\\begin{Description}\\relax\n",
       "The data was extracted from the 1974 \\emph{Motor Trend} US magazine,\n",
       "and comprises fuel consumption and 10 aspects of\n",
       "automobile design and performance for 32 automobiles (1973--74\n",
       "models).\n",
       "\\end{Description}\n",
       "%\n",
       "\\begin{Usage}\n",
       "\\begin{verbatim}\n",
       "mtcars\n",
       "\\end{verbatim}\n",
       "\\end{Usage}\n",
       "%\n",
       "\\begin{Format}\n",
       "A data frame with 32 observations on 11 (numeric) variables.\n",
       "\n",
       "\\Tabular{rll}{\n",
       "[, 1] & mpg  & Miles/(US) gallon \\\\{}\n",
       "[, 2] & cyl  & Number of cylinders \\\\{}\n",
       "[, 3] & disp & Displacement (cu.in.) \\\\{}\n",
       "[, 4] & hp   & Gross horsepower \\\\{}\n",
       "[, 5] & drat & Rear axle ratio \\\\{}\n",
       "[, 6] & wt   & Weight (1000 lbs) \\\\{}\n",
       "[, 7] & qsec & 1/4 mile time \\\\{}\n",
       "[, 8] & vs   & Engine (0 = V-shaped, 1 = straight) \\\\{}\n",
       "[, 9] & am   & Transmission (0 = automatic, 1 = manual) \\\\{}\n",
       "[,10] & gear & Number of forward gears \\\\{}\n",
       "[,11] & carb & Number of carburetors\n",
       "}\n",
       "\\end{Format}\n",
       "%\n",
       "\\begin{Note}\\relax\n",
       "Henderson and Velleman (1981) comment in a footnote to Table 1:\n",
       "`Hocking [original transcriber]'s noncrucial coding of the\n",
       "Mazda's rotary engine as a straight six-cylinder engine and the\n",
       "Porsche's flat engine as a V engine, as well as the inclusion of the\n",
       "diesel Mercedes 240D, have been retained to enable direct comparisons\n",
       "to be made with previous analyses.'\n",
       "\\end{Note}\n",
       "%\n",
       "\\begin{Source}\\relax\n",
       "Henderson and Velleman (1981),\n",
       "Building multiple regression models interactively.\n",
       "\\emph{Biometrics}, \\bold{37}, 391--411.\n",
       "\\end{Source}\n",
       "%\n",
       "\\begin{Examples}\n",
       "\\begin{ExampleCode}\n",
       "require(graphics)\n",
       "pairs(mtcars, main = \"mtcars data\", gap = 1/4)\n",
       "coplot(mpg ~ disp | as.factor(cyl), data = mtcars,\n",
       "       panel = panel.smooth, rows = 1)\n",
       "## possibly more meaningful, e.g., for summary() or bivariate plots:\n",
       "mtcars2 <- within(mtcars, {\n",
       "   vs <- factor(vs, labels = c(\"V\", \"S\"))\n",
       "   am <- factor(am, labels = c(\"automatic\", \"manual\"))\n",
       "   cyl  <- ordered(cyl)\n",
       "   gear <- ordered(gear)\n",
       "   carb <- ordered(carb)\n",
       "})\n",
       "summary(mtcars2)\n",
       "\\end{ExampleCode}\n",
       "\\end{Examples}"
      ],
      "text/plain": [
       "mtcars                package:datasets                 R Documentation\n",
       "\n",
       "_\bM_\bo_\bt_\bo_\br _\bT_\br_\be_\bn_\bd _\bC_\ba_\br _\bR_\bo_\ba_\bd _\bT_\be_\bs_\bt_\bs\n",
       "\n",
       "_\bD_\be_\bs_\bc_\br_\bi_\bp_\bt_\bi_\bo_\bn:\n",
       "\n",
       "     The data was extracted from the 1974 _Motor Trend_ US magazine,\n",
       "     and comprises fuel consumption and 10 aspects of automobile design\n",
       "     and performance for 32 automobiles (1973-74 models).\n",
       "\n",
       "_\bU_\bs_\ba_\bg_\be:\n",
       "\n",
       "     mtcars\n",
       "     \n",
       "_\bF_\bo_\br_\bm_\ba_\bt:\n",
       "\n",
       "     A data frame with 32 observations on 11 (numeric) variables.\n",
       "\n",
       "       [, 1]  mpg   Miles/(US) gallon                        \n",
       "       [, 2]  cyl   Number of cylinders                      \n",
       "       [, 3]  disp  Displacement (cu.in.)                    \n",
       "       [, 4]  hp    Gross horsepower                         \n",
       "       [, 5]  drat  Rear axle ratio                          \n",
       "       [, 6]  wt    Weight (1000 lbs)                        \n",
       "       [, 7]  qsec  1/4 mile time                            \n",
       "       [, 8]  vs    Engine (0 = V-shaped, 1 = straight)      \n",
       "       [, 9]  am    Transmission (0 = automatic, 1 = manual) \n",
       "       [,10]  gear  Number of forward gears                  \n",
       "       [,11]  carb  Number of carburetors                    \n",
       "      \n",
       "_\bN_\bo_\bt_\be:\n",
       "\n",
       "     Henderson and Velleman (1981) comment in a footnote to Table 1:\n",
       "     'Hocking [original transcriber]'s noncrucial coding of the Mazda's\n",
       "     rotary engine as a straight six-cylinder engine and the Porsche's\n",
       "     flat engine as a V engine, as well as the inclusion of the diesel\n",
       "     Mercedes 240D, have been retained to enable direct comparisons to\n",
       "     be made with previous analyses.'\n",
       "\n",
       "_\bS_\bo_\bu_\br_\bc_\be:\n",
       "\n",
       "     Henderson and Velleman (1981), Building multiple regression models\n",
       "     interactively.  _Biometrics_, *37*, 391-411.\n",
       "\n",
       "_\bE_\bx_\ba_\bm_\bp_\bl_\be_\bs:\n",
       "\n",
       "     require(graphics)\n",
       "     pairs(mtcars, main = \"mtcars data\", gap = 1/4)\n",
       "     coplot(mpg ~ disp | as.factor(cyl), data = mtcars,\n",
       "            panel = panel.smooth, rows = 1)\n",
       "     ## possibly more meaningful, e.g., for summary() or bivariate plots:\n",
       "     mtcars2 <- within(mtcars, {\n",
       "        vs <- factor(vs, labels = c(\"V\", \"S\"))\n",
       "        am <- factor(am, labels = c(\"automatic\", \"manual\"))\n",
       "        cyl  <- ordered(cyl)\n",
       "        gear <- ordered(gear)\n",
       "        carb <- ordered(carb)\n",
       "     })\n",
       "     summary(mtcars2)\n",
       "     "
      ]
     },
     "metadata": {},
     "output_type": "display_data"
    }
   ],
   "source": [
    "?mtcars"
   ]
  },
  {
   "cell_type": "markdown",
   "id": "73bf5605-d9bf-493c-a57d-d4cf55812182",
   "metadata": {},
   "source": [
    "#### ?mtcars"
   ]
  },
  {
   "cell_type": "markdown",
   "id": "cd125362-ab0f-4c58-a697-4c93875b44c4",
   "metadata": {},
   "source": [
    "### Useful data summarization functions\n",
    "- Describe from Hmisc package\n",
    "- stat.desc from pastecs\n",
    "- describe from psych\n",
    "- skim from skimr\n",
    "- describe and dfsummary from summary tools"
   ]
  },
  {
   "cell_type": "code",
   "execution_count": 187,
   "id": "bd9027fd-78ff-4f5a-a84e-3ef9ff3e6cdf",
   "metadata": {},
   "outputs": [
    {
     "data": {
      "text/html": [
       "<table>\n",
       "<thead><tr><th scope=col>country</th><th scope=col>gdp_growth</th><th scope=col>mkt_type</th></tr></thead>\n",
       "<tbody>\n",
       "\t<tr><td>France  </td><td>1.3     </td><td>High    </td></tr>\n",
       "\t<tr><td>Germany </td><td>0.3     </td><td>High    </td></tr>\n",
       "\t<tr><td>Greece  </td><td>1.9     </td><td>Low     </td></tr>\n",
       "\t<tr><td>Italy   </td><td>0.3     </td><td>Medium  </td></tr>\n",
       "\t<tr><td>Portugal</td><td> NA     </td><td>Low     </td></tr>\n",
       "\t<tr><td>Spain   </td><td>2.0     </td><td>Medium  </td></tr>\n",
       "</tbody>\n",
       "</table>\n"
      ],
      "text/latex": [
       "\\begin{tabular}{r|lll}\n",
       " country & gdp\\_growth & mkt\\_type\\\\\n",
       "\\hline\n",
       "\t France   & 1.3      & High    \\\\\n",
       "\t Germany  & 0.3      & High    \\\\\n",
       "\t Greece   & 1.9      & Low     \\\\\n",
       "\t Italy    & 0.3      & Medium  \\\\\n",
       "\t Portugal &  NA      & Low     \\\\\n",
       "\t Spain    & 2.0      & Medium  \\\\\n",
       "\\end{tabular}\n"
      ],
      "text/markdown": [
       "\n",
       "| country | gdp_growth | mkt_type |\n",
       "|---|---|---|\n",
       "| France   | 1.3      | High     |\n",
       "| Germany  | 0.3      | High     |\n",
       "| Greece   | 1.9      | Low      |\n",
       "| Italy    | 0.3      | Medium   |\n",
       "| Portugal |  NA      | Low      |\n",
       "| Spain    | 2.0      | Medium   |\n",
       "\n"
      ],
      "text/plain": [
       "  country  gdp_growth mkt_type\n",
       "1 France   1.3        High    \n",
       "2 Germany  0.3        High    \n",
       "3 Greece   1.9        Low     \n",
       "4 Italy    0.3        Medium  \n",
       "5 Portugal  NA        Low     \n",
       "6 Spain    2.0        Medium  "
      ]
     },
     "metadata": {},
     "output_type": "display_data"
    }
   ],
   "source": [
    "data"
   ]
  },
  {
   "cell_type": "code",
   "execution_count": 189,
   "id": "916772d2-5970-4997-9e28-8a67e1c39ba8",
   "metadata": {},
   "outputs": [
    {
     "name": "stderr",
     "output_type": "stream",
     "text": [
      "Registered S3 methods overwritten by 'ggplot2':\n",
      "  method         from \n",
      "  [.quosures     rlang\n",
      "  c.quosures     rlang\n",
      "  print.quosures rlang\n"
     ]
    },
    {
     "data": {
      "text/plain": [
       "data \n",
       "\n",
       " 3  Variables      6  Observations\n",
       "--------------------------------------------------------------------------------\n",
       "country \n",
       "       n  missing distinct \n",
       "       6        0        6 \n",
       "                                                                \n",
       "Value        France  Germany   Greece    Italy Portugal    Spain\n",
       "Frequency         1        1        1        1        1        1\n",
       "Proportion    0.167    0.167    0.167    0.167    0.167    0.167\n",
       "--------------------------------------------------------------------------------\n",
       "gdp_growth \n",
       "       n  missing distinct     Info     Mean      Gmd \n",
       "       5        1        4     0.95     1.16        1 \n",
       "                          \n",
       "Value      0.3 1.3 1.9 2.0\n",
       "Frequency    2   1   1   1\n",
       "Proportion 0.4 0.2 0.2 0.2\n",
       "--------------------------------------------------------------------------------\n",
       "mkt_type \n",
       "       n  missing distinct \n",
       "       6        0        3 \n",
       "                               \n",
       "Value        High    Low Medium\n",
       "Frequency       2      2      2\n",
       "Proportion  0.333  0.333  0.333\n",
       "--------------------------------------------------------------------------------"
      ]
     },
     "metadata": {},
     "output_type": "display_data"
    }
   ],
   "source": [
    "Hmisc::describe(data)"
   ]
  },
  {
   "cell_type": "markdown",
   "id": "afd5af54-c176-4b3c-a8a8-b0fbec56c7f1",
   "metadata": {},
   "source": [
    "- Hmisc is more popular than any other libraries"
   ]
  }
 ],
 "metadata": {
  "kernelspec": {
   "display_name": "R [conda env:base] *",
   "language": "R",
   "name": "conda-base-r"
  },
  "language_info": {
   "codemirror_mode": "r",
   "file_extension": ".r",
   "mimetype": "text/x-r-source",
   "name": "R",
   "pygments_lexer": "r",
   "version": "3.6.1"
  }
 },
 "nbformat": 4,
 "nbformat_minor": 5
}
