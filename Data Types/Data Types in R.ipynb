{
 "cells": [
  {
   "cell_type": "markdown",
   "id": "7393ff94-83ce-4b7f-8157-5e73ba177663",
   "metadata": {},
   "source": [
    "# Data Types in R"
   ]
  },
  {
   "cell_type": "markdown",
   "id": "515f6e6b-3ef5-438d-ba1b-9746f4d5a310",
   "metadata": {},
   "source": [
    "1. Numeric\n",
    "2. Integer\n",
    "3. Character\n",
    "4. Factor\n",
    "5. Logical"
   ]
  },
  {
   "cell_type": "markdown",
   "id": "4c36ae51-6ef4-40e0-b539-9ca24a4bc661",
   "metadata": {},
   "source": [
    "* Character variable"
   ]
  },
  {
   "cell_type": "code",
   "execution_count": 1,
   "id": "fa051320-58a0-4936-84c4-031d89e4765c",
   "metadata": {},
   "outputs": [],
   "source": [
    "myChar <- \"Hello world\""
   ]
  },
  {
   "cell_type": "code",
   "execution_count": 2,
   "id": "a6cdd550-a6a9-48e7-80ee-b99c9ea3ffb0",
   "metadata": {},
   "outputs": [
    {
     "data": {
      "text/html": [
       "'character'"
      ],
      "text/latex": [
       "'character'"
      ],
      "text/markdown": [
       "'character'"
      ],
      "text/plain": [
       "[1] \"character\""
      ]
     },
     "metadata": {},
     "output_type": "display_data"
    }
   ],
   "source": [
    "class(myChar)"
   ]
  },
  {
   "cell_type": "markdown",
   "id": "bbc1259a-b9eb-4e22-a3c0-93cb3029e776",
   "metadata": {},
   "source": [
    "* Numeric variable"
   ]
  },
  {
   "cell_type": "code",
   "execution_count": 3,
   "id": "05bf6473-7bcd-4aeb-89f9-cf7208cdea87",
   "metadata": {},
   "outputs": [],
   "source": [
    "myNumeric <- 123"
   ]
  },
  {
   "cell_type": "code",
   "execution_count": 4,
   "id": "c16ce671-e7fe-4c34-82f7-e1889c21fde3",
   "metadata": {},
   "outputs": [
    {
     "data": {
      "text/html": [
       "'numeric'"
      ],
      "text/latex": [
       "'numeric'"
      ],
      "text/markdown": [
       "'numeric'"
      ],
      "text/plain": [
       "[1] \"numeric\""
      ]
     },
     "metadata": {},
     "output_type": "display_data"
    }
   ],
   "source": [
    "class(myNumeric)"
   ]
  },
  {
   "cell_type": "markdown",
   "id": "c5744506-5ef6-4318-93a2-01909c28070e",
   "metadata": {},
   "source": [
    "* Integer variable"
   ]
  },
  {
   "cell_type": "code",
   "execution_count": 5,
   "id": "9d959f81-ed07-4aa5-b910-64214cb0d5af",
   "metadata": {},
   "outputs": [],
   "source": [
    "myInteger <- 123L"
   ]
  },
  {
   "cell_type": "code",
   "execution_count": 6,
   "id": "2a9b2f62-ae7c-4ea1-b57b-e9c02fc97189",
   "metadata": {},
   "outputs": [
    {
     "data": {
      "text/html": [
       "'integer'"
      ],
      "text/latex": [
       "'integer'"
      ],
      "text/markdown": [
       "'integer'"
      ],
      "text/plain": [
       "[1] \"integer\""
      ]
     },
     "metadata": {},
     "output_type": "display_data"
    }
   ],
   "source": [
    "class(myInteger)"
   ]
  },
  {
   "cell_type": "markdown",
   "id": "918e5304-8576-4005-b01f-4d9ff17e28cf",
   "metadata": {},
   "source": [
    "* Logical variable"
   ]
  },
  {
   "cell_type": "code",
   "execution_count": 7,
   "id": "f4b1cc31-4b64-459d-8b42-3e35be55152c",
   "metadata": {},
   "outputs": [],
   "source": [
    "myLogical_True <- TRUE"
   ]
  },
  {
   "cell_type": "code",
   "execution_count": 8,
   "id": "fadc7969-5fb7-4f8e-9475-8fbe209f9911",
   "metadata": {},
   "outputs": [
    {
     "data": {
      "text/html": [
       "'logical'"
      ],
      "text/latex": [
       "'logical'"
      ],
      "text/markdown": [
       "'logical'"
      ],
      "text/plain": [
       "[1] \"logical\""
      ]
     },
     "metadata": {},
     "output_type": "display_data"
    }
   ],
   "source": [
    "class(myLogical_True)"
   ]
  },
  {
   "cell_type": "code",
   "execution_count": 9,
   "id": "3c155d24-ab59-4e70-908d-136e3084fe20",
   "metadata": {},
   "outputs": [],
   "source": [
    "myLogical_False <- FALSE"
   ]
  },
  {
   "cell_type": "code",
   "execution_count": 10,
   "id": "800381f4-8ea4-4caa-bc47-b9cff7770ee8",
   "metadata": {},
   "outputs": [
    {
     "data": {
      "text/html": [
       "'logical'"
      ],
      "text/latex": [
       "'logical'"
      ],
      "text/markdown": [
       "'logical'"
      ],
      "text/plain": [
       "[1] \"logical\""
      ]
     },
     "metadata": {},
     "output_type": "display_data"
    }
   ],
   "source": [
    "class(myLogical_False)"
   ]
  },
  {
   "cell_type": "markdown",
   "id": "5c111858-5064-43b6-a375-55fceb4a2755",
   "metadata": {},
   "source": [
    "### Type Casting"
   ]
  },
  {
   "cell_type": "code",
   "execution_count": 11,
   "id": "6137b83b-209a-4a0e-9668-2657203a1559",
   "metadata": {},
   "outputs": [
    {
     "data": {
      "text/html": [
       "123"
      ],
      "text/latex": [
       "123"
      ],
      "text/markdown": [
       "123"
      ],
      "text/plain": [
       "[1] 123"
      ]
     },
     "metadata": {},
     "output_type": "display_data"
    }
   ],
   "source": [
    "Cast_Numeric <- as.numeric(\"123\")\n",
    "Cast_Numeric"
   ]
  },
  {
   "cell_type": "code",
   "execution_count": 12,
   "id": "6c71a9fc-a5a8-4665-b474-619b8fc06262",
   "metadata": {},
   "outputs": [
    {
     "data": {
      "text/html": [
       "'character'"
      ],
      "text/latex": [
       "'character'"
      ],
      "text/markdown": [
       "'character'"
      ],
      "text/plain": [
       "[1] \"character\""
      ]
     },
     "metadata": {},
     "output_type": "display_data"
    }
   ],
   "source": [
    "Cast_Character <- as.character(123)\n",
    "class(Cast_Character)"
   ]
  },
  {
   "cell_type": "code",
   "execution_count": 13,
   "id": "930a23f7-f579-4c24-925f-9abf64589723",
   "metadata": {},
   "outputs": [
    {
     "data": {
      "text/html": [
       "'character'"
      ],
      "text/latex": [
       "'character'"
      ],
      "text/markdown": [
       "'character'"
      ],
      "text/plain": [
       "[1] \"character\""
      ]
     },
     "metadata": {},
     "output_type": "display_data"
    }
   ],
   "source": [
    "Cast_Character_Boolean <- as.character(TRUE)\n",
    "class(Cast_Character_Boolean)"
   ]
  },
  {
   "cell_type": "code",
   "execution_count": 14,
   "id": "39789920-8d43-4e2e-948f-e6521139170f",
   "metadata": {},
   "outputs": [
    {
     "data": {
      "text/html": [
       "'logical'"
      ],
      "text/latex": [
       "'logical'"
      ],
      "text/markdown": [
       "'logical'"
      ],
      "text/plain": [
       "[1] \"logical\""
      ]
     },
     "metadata": {},
     "output_type": "display_data"
    }
   ],
   "source": [
    "Cast_Logical <- as.logical(\"TRUE\")\n",
    "class(Cast_Logical)"
   ]
  },
  {
   "cell_type": "markdown",
   "id": "08471af1-2a07-4606-9f98-05331ca73dc7",
   "metadata": {},
   "source": [
    "* We can also convert the numbers into Logical data type. "
   ]
  },
  {
   "cell_type": "code",
   "execution_count": 15,
   "id": "cded2356-2172-4dc6-9cb4-faab66dbbd43",
   "metadata": {},
   "outputs": [
    {
     "data": {
      "text/html": [
       "'logical'"
      ],
      "text/latex": [
       "'logical'"
      ],
      "text/markdown": [
       "'logical'"
      ],
      "text/plain": [
       "[1] \"logical\""
      ]
     },
     "metadata": {},
     "output_type": "display_data"
    }
   ],
   "source": [
    "Cast_Logical_1 <- as.logical(0)\n",
    "class(Cast_Logical_1)"
   ]
  },
  {
   "cell_type": "code",
   "execution_count": 16,
   "id": "3708d76e-f1dc-44c9-9b50-50e8d2795215",
   "metadata": {},
   "outputs": [
    {
     "data": {
      "text/html": [
       "'logical'"
      ],
      "text/latex": [
       "'logical'"
      ],
      "text/markdown": [
       "'logical'"
      ],
      "text/plain": [
       "[1] \"logical\""
      ]
     },
     "metadata": {},
     "output_type": "display_data"
    }
   ],
   "source": [
    "Cast_Logical_0 <- as.logical(0)\n",
    "class(Cast_Logical_0)"
   ]
  }
 ],
 "metadata": {
  "kernelspec": {
   "display_name": "R",
   "language": "R",
   "name": "ir"
  },
  "language_info": {
   "codemirror_mode": "r",
   "file_extension": ".r",
   "mimetype": "text/x-r-source",
   "name": "R",
   "pygments_lexer": "r",
   "version": "3.6.1"
  }
 },
 "nbformat": 4,
 "nbformat_minor": 5
}
